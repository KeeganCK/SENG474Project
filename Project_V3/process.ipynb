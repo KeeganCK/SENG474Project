{
 "cells": [
  {
   "cell_type": "code",
   "execution_count": 24,
   "metadata": {},
   "outputs": [],
   "source": [
    "import numpy as np\n",
    "import ast\n",
    "import pytz\n",
    "import math\n",
    "import itertools\n",
    "from sklearn.preprocessing import LabelBinarizer\n",
    "import pandas as pd\n",
    "import sklearn\n",
    "from sklearn.tree import DecisionTreeClassifier\n",
    "from sklearn.model_selection import train_test_split\n",
    "from sklearn.metrics import mean_absolute_error,accuracy_score\n",
    "from sklearn.model_selection import GridSearchCV\n",
    "from sklearn.feature_extraction.text import TfidfVectorizer\n",
    "from sklearn.metrics.pairwise import linear_kernel\n",
    "from sklearn.feature_extraction.text import CountVectorizer\n",
    "from sklearn.metrics.pairwise import cosine_similarity\n",
    "\n",
    "# Compute the cosine similarity matrix\n",
    "\n",
    "\n",
    "\n",
    "\n",
    "\n",
    "\n",
    "def get_recommendations(name):\n",
    "    df = pd.read_csv('top10K-spotify.csv',index_col=0)\n",
    "    df[\"type\"].value_counts()\n",
    "    df=df.drop(columns=[\"index\",\"city_1\",\"district_1\",\"district_2\",\"city_3\",\"district_3\" ])\n",
    "    df = df[df['city_2'].notna()]\n",
    "    df = df[df['country'].notna()]\n",
    "    df.rename(columns = {'artist':'name'}, inplace = True)\n",
    "    # print(data_df.head())\n",
    "\n",
    "    df2=pd.read_csv('data_w_spotify.csv',index_col=None)\n",
    "    df2=df2.drop(columns=[\"isdone\",\"id\"])\n",
    "    df2['genres'] = df2['genres'].fillna('')\n",
    "\n",
    "    df3=df.merge(df2,on='name')\n",
    "\n",
    "\n",
    "    df3['genres']= df3['genres'].str.strip('[]').str.replace(\"'\",\"\").str.split('\\s*,\\s*')\n",
    "\n",
    "    def create_soup(x):\n",
    "        return ' '.join(x['genres']) + ' ' + ' '+ x['city_2'] + ' ' + x['country']+' ' + x['gender']+' ' + x['type']\n",
    "\n",
    "    df3['soup'] = df3.apply(create_soup, axis=1)\n",
    "\n",
    "    count = CountVectorizer()\n",
    "    count_matrix = count.fit_transform(df3['soup'])\n",
    "    print(df3.head())\n",
    "    # print(count_matrix.shape)\n",
    "    cosine_sim = cosine_similarity(count_matrix, count_matrix)\n",
    "    dict_names = dict(zip(df3.name, df3.spotifyid))\n",
    "    df3=df3.drop(columns=[\"spotifyid\"])\n",
    "    # Get the index of the movie that matches the title\n",
    "    df3 = df3.reset_index()\n",
    "    indices = pd.Series(df3.index, index=df3['name']).drop_duplicates()\n",
    "    idx = indices[name]\n",
    "\n",
    "    # Get the pairwsie similarity scores of all movies with that movie\n",
    "    sim_scores = list(enumerate(cosine_sim[idx]))\n",
    "\n",
    "    # Sort the movies based on the similarity scores\n",
    "    sim_scores = sorted(sim_scores, key=lambda x: x[1], reverse=True)\n",
    "\n",
    "    # Get the scores of the 10 most similar movies\n",
    "    sim_scores = sim_scores[1:11]\n",
    "    print(sim_scores)\n",
    "\n",
    "    # Get the movie indices\n",
    "    indices = [i[0] for i in sim_scores]\n",
    "\n",
    "    # Return the top 10 most similar movies\n",
    "     \n",
    "    top_10=df3['name'].iloc[indices]\n",
    "    spot_top10=[]\n",
    "    for item in top_10:\n",
    "        spot_top10.append(dict_names[str(item)])\n",
    "\n",
    "    return top_10\n",
    "\n",
    "\n",
    "\n"
   ]
  },
  {
   "cell_type": "code",
   "execution_count": 26,
   "metadata": {},
   "outputs": [
    {
     "name": "stdout",
     "output_type": "stream",
     "text": [
      "          name gender  age    type country    city_2               spotifyid  \\\n",
      "0        Drake   male   33  person      CA   Toronto  3TVXtAsR1Inumwj472S9r4   \n",
      "1  Post Malone   male   25  person      US  Syracuse  246dkjvS1zLTtiykXe5h60   \n",
      "2   Ed Sheeran   male   29  person      GB   Halifax  6eUKZXaKkcviH0Ku9w2n3V   \n",
      "3     J Balvin   male   35  person      CO  Medellín  1vyhD5VmyZ7KMfW5gqLgo5   \n",
      "4    Bad Bunny   male   26  person      PR  San Juan  4q3ewBCX7sLwd24euuV69X   \n",
      "\n",
      "                                              genres  popularity   followers  \\\n",
      "0  [canadian hip hop, canadian pop, hip hop, rap,...        98.0  61377383.0   \n",
      "1                        [dfw rap, melodic rap, rap]        91.0  36067567.0   \n",
      "2                                      [pop, uk pop]        95.0  93327682.0   \n",
      "3  [latin, reggaeton, reggaeton colombiano, trap ...        93.0  32773399.0   \n",
      "4                    [latin, reggaeton, trap latino]       100.0  44516743.0   \n",
      "\n",
      "                                                soup  \n",
      "0  canadian hip hop canadian pop hip hop rap toro...  \n",
      "1   dfw rap melodic rap rap  Syracuse US male person  \n",
      "2                 pop uk pop  Halifax GB male person  \n",
      "3  latin reggaeton reggaeton colombiano trap lati...  \n",
      "4  latin reggaeton trap latino  San Juan PR male ...  \n",
      "[(1111, 0.8839122201939116), (105, 0.8263342440128465), (16, 0.8215838362577492), (45, 0.8215838362577492), (182, 0.8215838362577492), (217, 0.8215838362577492), (239, 0.8215838362577492), (384, 0.8215838362577492), (616, 0.8215838362577492), (860, 0.8215838362577492)]\n"
     ]
    },
    {
     "data": {
      "text/plain": [
       "1111      Hayley Kiyoko\n",
       "105                Daya\n",
       "16       Camila Cabello\n",
       "45          Demi Lovato\n",
       "182                P!nk\n",
       "217          Noah Cyrus\n",
       "239             Zendaya\n",
       "384      Britney Spears\n",
       "616     Vanessa Hudgens\n",
       "860         Hilary Duff\n",
       "Name: name, dtype: object"
      ]
     },
     "execution_count": 26,
     "metadata": {},
     "output_type": "execute_result"
    }
   ],
   "source": [
    "get_recommendations('Kim Petras')"
   ]
  },
  {
   "cell_type": "code",
   "execution_count": null,
   "metadata": {},
   "outputs": [],
   "source": [
    "# data_df['gender'] = data_df['gender'].astype('str') \n",
    "# X = data_df.drop(columns=['gender'])\n",
    "\n",
    "# lb = LabelBinarizer()\n",
    "# y=lb.fit_transform(data_df['gender'])\n",
    "# print(\"Training Model...\")\n",
    "\n",
    "# X_train, X_test, y_train, y_test = train_test_split(X, y, test_size=0.2, random_state=11)\n",
    "\n",
    "# model = DecisionTreeClassifier()\n",
    "\n",
    "# model.fit(X_train, y_train)\n",
    "\n",
    "# parameters = {'max_depth':range(3,20)}\n",
    "# clf = GridSearchCV(DecisionTreeClassifier(), parameters, n_jobs=4)\n",
    "# clf.fit(X=X, y=y)\n",
    "# tree_model = clf.best_estimator_\n",
    "# print (clf.best_score_, clf.best_params_) \n",
    "\n",
    "# y_train_pred = model.predict(X_train)\n",
    "# y_test_pred = model.predict(X_test)\n",
    "\n",
    "# print(f\"Train MAE: {accuracy_score(y_train_pred, y_train)}\")\n",
    "# print(f\"Test MAE: {accuracy_score(y_test_pred, y_test)}\")\n"
   ]
  },
  {
   "cell_type": "code",
   "execution_count": 150,
   "metadata": {},
   "outputs": [
    {
     "name": "stdout",
     "output_type": "stream",
     "text": [
      "Training Model...\n",
      "Train MAE: 0.9777097902097902\n",
      "Test MAE: 0.7447552447552448\n"
     ]
    },
    {
     "data": {
      "image/png": "[encoded data removed]",
      "text/plain": [
       "<Figure size 720x432 with 2 Axes>"
      ]
     },
     "metadata": {
      "needs_background": "light"
     },
     "output_type": "display_data"
    }
   ],
   "source": [
    "import numpy as np\n",
    "import ast\n",
    "import pytz\n",
    "import math\n",
    "import itertools\n",
    "from sklearn.preprocessing import LabelBinarizer\n",
    "import pandas as pd\n",
    "import sklearn\n",
    "from sklearn.tree import DecisionTreeClassifier\n",
    "from sklearn.model_selection import train_test_split\n",
    "from sklearn.metrics import mean_absolute_error,accuracy_score,confusion_matrix\n",
    "from sklearn.model_selection import GridSearchCV\n",
    "import matplotlib.pyplot as plt\n",
    "\n",
    "df = pd.read_csv('top10K-spotify.csv',index_col=0)\n",
    "df[\"type\"].value_counts()\n",
    "df=df.drop(columns=['artist',\"index\",\"city_1\",\"district_1\",\"district_2\",\"city_3\",\"district_3\" ])\n",
    "# print(df.head(),df.shape)\n",
    "df = df[df['city_2'].notna()]\n",
    "df = df[df['country'].notna()]\n",
    "data_df = pd.get_dummies(df,columns=['type','country','city_2'],drop_first=True)\n",
    "# print(data_df.dtypes)\n",
    "\n",
    "data_df['gender'] = data_df['gender'].astype('str') \n",
    "X = data_df.drop(columns=['gender'])\n",
    "\n",
    "lb = LabelBinarizer()\n",
    "y=lb.fit_transform(data_df['gender'])\n",
    "print(\"Training Model...\")\n",
    "\n",
    "X_train, X_test, y_train, y_test = train_test_split(X, y, test_size=0.2, random_state=11)\n",
    "\n",
    "model = DecisionTreeClassifier()\n",
    "\n",
    "model.fit(X_train, y_train)\n",
    "\n",
    "# parameters = {'max_depth':range(3,20)}\n",
    "# clf = GridSearchCV(DecisionTreeClassifier(), parameters, n_jobs=4)\n",
    "# clf.fit(X=X, y=y)\n",
    "# tree_model = clf.best_estimator_\n",
    "# print (clf.best_score_, clf.best_params_) \n",
    "\n",
    "y_train_pred = model.predict(X_train)\n",
    "y_test_pred = model.predict(X_test)\n",
    "\n",
    "print(f\"Train MAE: {accuracy_score(y_train_pred, y_train)}\")\n",
    "print(f\"Test MAE: {accuracy_score(y_test_pred, y_test)}\")\n",
    "\n",
    "cm = confusion_matrix(y_test.argmax(axis=1),y_test_pred.argmax(axis=1) )\n",
    "plt.subplots(figsize=(10, 6))\n",
    "sb.heatmap(cm, annot = True, fmt = 'g')\n",
    "plt.xlabel(\"Predicted\")\n",
    "plt.ylabel(\"Actual\")\n",
    "plt.title(\"Confusion Matrix\")\n",
    "plt.show()"
   ]
  },
  {
   "cell_type": "code",
   "execution_count": 7,
   "metadata": {},
   "outputs": [
    {
     "name": "stdout",
     "output_type": "stream",
     "text": [
      "Training Model...\n"
     ]
    },
    {
     "name": "stderr",
     "output_type": "stream",
     "text": [
      "C:\\Users\\David\\AppData\\Local\\Packages\\PythonSoftwareFoundation.Python.3.9_qbz5n2kfra8p0\\LocalCache\\local-packages\\Python39\\site-packages\\sklearn\\utils\\validation.py:727: FutureWarning: np.matrix usage is deprecated in 1.0 and will raise a TypeError in 1.2. Please convert to a numpy array with np.asarray. For more information see: https://numpy.org/doc/stable/reference/generated/numpy.matrix.html\n",
      "  warnings.warn(\n"
     ]
    },
    {
     "name": "stdout",
     "output_type": "stream",
     "text": [
      "Train MAE: 0.884884346422808\n",
      "Test MAE: 0.023976023976023976\n"
     ]
    }
   ],
   "source": [
    "import numpy as np\n",
    "import ast\n",
    "import pytz\n",
    "import math\n",
    "import itertools\n",
    "from sklearn.preprocessing import LabelBinarizer\n",
    "import pandas as pd\n",
    "import sklearn\n",
    "from sklearn.tree import DecisionTreeClassifier\n",
    "from sklearn.model_selection import train_test_split\n",
    "from sklearn.metrics import mean_absolute_error,accuracy_score,hamming_loss,confusion_matrix\n",
    "from sklearn.model_selection import GridSearchCV\n",
    "import seaborn as sb\n",
    "import matplotlib.pyplot as plt\n",
    "\n",
    "df = pd.read_csv('top10K-spotify.csv',index_col=0)\n",
    "df[\"type\"].value_counts()\n",
    "df=df.drop(columns=[\"index\",\"city_1\",\"district_1\",\"district_2\",\"city_3\",\"district_3\" ])\n",
    "# print(df.head(),df.shape)\n",
    "df = df[df['city_2'].notna()]\n",
    "df = df[df['country'].notna()]\n",
    "data_df = pd.get_dummies(df,columns=['gender','type','country','city_2'],drop_first=True)\n",
    "# print(data_df.dtypes)\n",
    "\n",
    "# data_df['gender'] = data_df['gender'].astype('str') \n",
    "X = data_df.drop(columns=['artist'])\n",
    "\n",
    "lb = LabelBinarizer(sparse_output=True)\n",
    "y=lb.fit_transform(data_df['artist'])\n",
    "print(\"Training Model...\")\n",
    "\n",
    "X_train, X_test, y_train, y_test = train_test_split(X, y.todense(), test_size=0.35, random_state=42)\n",
    "\n",
    "model = DecisionTreeClassifier()\n",
    "\n",
    "model.fit(X_train, y_train)\n",
    "\n",
    "# parameters = {'max_depth':range(3,20)}\n",
    "# clf = GridSearchCV(DecisionTreeClassifier(), parameters, n_jobs=4)\n",
    "# clf.fit(X=X, y=y.todense())\n",
    "# tree_model = clf.best_estimator_\n",
    "# print (clf.best_score_, clf.best_params_) \n",
    "\n",
    "y_train_pred = model.predict(X_train)\n",
    "y_test_pred = model.predict(X_test)\n",
    "\n",
    "print(f\"Train MAE: {accuracy_score(y_train_pred, y_train)}\")\n",
    "print(f\"Test MAE: {accuracy_score(y_test_pred, y_test)}\")\n",
    "\n"
   ]
  },
  {
   "cell_type": "code",
   "execution_count": 12,
   "metadata": {},
   "outputs": [
    {
     "name": "stdout",
     "output_type": "stream",
     "text": [
      "Training Model...\n"
     ]
    },
    {
     "name": "stderr",
     "output_type": "stream",
     "text": [
      "C:\\Users\\David\\AppData\\Local\\Packages\\PythonSoftwareFoundation.Python.3.9_qbz5n2kfra8p0\\LocalCache\\local-packages\\Python39\\site-packages\\sklearn\\utils\\validation.py:727: FutureWarning: np.matrix usage is deprecated in 1.0 and will raise a TypeError in 1.2. Please convert to a numpy array with np.asarray. For more information see: https://numpy.org/doc/stable/reference/generated/numpy.matrix.html\n",
      "  warnings.warn(\n"
     ]
    },
    {
     "name": "stdout",
     "output_type": "stream",
     "text": [
      "Train MAE: 0.5144855144855145\n",
      "Test MAE: 0.13986013986013987\n"
     ]
    }
   ],
   "source": [
    "import numpy as np\n",
    "import ast\n",
    "import pytz\n",
    "import math\n",
    "import itertools\n",
    "from sklearn.preprocessing import LabelBinarizer\n",
    "import pandas as pd\n",
    "import sklearn\n",
    "from sklearn.tree import DecisionTreeClassifier\n",
    "from sklearn.model_selection import train_test_split\n",
    "from sklearn.metrics import mean_absolute_error,accuracy_score,hamming_loss,confusion_matrix\n",
    "from sklearn.model_selection import GridSearchCV\n",
    "import seaborn as sb\n",
    "import matplotlib.pyplot as plt\n",
    "\n",
    "df = pd.read_csv('top10K-spotify.csv',index_col=0)\n",
    "df[\"type\"].value_counts()\n",
    "df=df.drop(columns=[\"artist\",\"index\",\"city_1\",\"district_1\",\"district_2\",\"city_3\",\"district_3\" ])\n",
    "# print(df.head(),df.shape)\n",
    "df = df[df['city_2'].notna()]\n",
    "df = df[df['country'].notna()]\n",
    "data_df = pd.get_dummies(df,columns=['gender','type','country'],drop_first=True)\n",
    "# print(data_df.dtypes)\n",
    "\n",
    "# data_df['gender'] = data_df['gender'].astype('str') \n",
    "X = data_df.drop(columns=['city_2'])\n",
    "\n",
    "lb = LabelBinarizer(sparse_output=True)\n",
    "y=lb.fit_transform(data_df['city_2'])\n",
    "print(\"Training Model...\")\n",
    "\n",
    "X_train, X_test, y_train, y_test = train_test_split(X, y.todense(), test_size=0.30, random_state=42)\n",
    "\n",
    "model = DecisionTreeClassifier()\n",
    "\n",
    "model.fit(X_train, y_train)\n",
    "\n",
    "# parameters = {'max_depth':range(3,20)}\n",
    "# clf = GridSearchCV(DecisionTreeClassifier(), parameters, n_jobs=4)\n",
    "# clf.fit(X=X, y=y.todense())\n",
    "# tree_model = clf.best_estimator_\n",
    "# print (clf.best_score_, clf.best_params_) \n",
    "\n"
   ]
  },
  {
   "cell_type": "code",
   "execution_count": 16,
   "metadata": {},
   "outputs": [
    {
     "name": "stderr",
     "output_type": "stream",
     "text": [
      "C:\\Users\\David\\AppData\\Local\\Packages\\PythonSoftwareFoundation.Python.3.9_qbz5n2kfra8p0\\LocalCache\\local-packages\\Python39\\site-packages\\sklearn\\utils\\validation.py:727: FutureWarning: np.matrix usage is deprecated in 1.0 and will raise a TypeError in 1.2. Please convert to a numpy array with np.asarray. For more information see: https://numpy.org/doc/stable/reference/generated/numpy.matrix.html\n",
      "  warnings.warn(\n"
     ]
    },
    {
     "name": "stdout",
     "output_type": "stream",
     "text": [
      "2Train MAE: 0.5334665334665335\n",
      "2Test MAE: 0.13986013986013987\n"
     ]
    }
   ],
   "source": [
    "from sklearn.ensemble import RandomForestClassifier\n",
    "model3 = RandomForestClassifier()\n",
    "\n",
    "model3.fit(X_train, y_train)\n",
    "\n",
    "# parameters = {'max_depth':range(3,20)}\n",
    "# clf = GridSearchCV(DecisionTreeClassifier(), parameters, n_jobs=4)\n",
    "# clf.fit(X=X, y=y.todense())\n",
    "# tree_model = clf.best_estimator_\n",
    "# print (clf.best_score_, clf.best_params_) \n",
    "\n",
    "y_train_pred = model3.predict(X_train)\n",
    "y_test_pred = model3.predict(X_test)\n",
    "\n",
    "print(f\"2Train MAE: {accuracy_score(y_train_pred, y_train)}\")\n",
    "print(f\"2Test MAE: {accuracy_score(y_test_pred, y_test)}\")"
   ]
  },
  {
   "cell_type": "code",
   "execution_count": null,
   "metadata": {},
   "outputs": [],
   "source": []
  },
  {
   "cell_type": "code",
   "execution_count": 105,
   "metadata": {},
   "outputs": [
    {
     "name": "stderr",
     "output_type": "stream",
     "text": [
      "C:\\Users\\David\\AppData\\Local\\Packages\\PythonSoftwareFoundation.Python.3.9_qbz5n2kfra8p0\\LocalCache\\local-packages\\Python39\\site-packages\\sklearn\\linear_model\\_stochastic_gradient.py:173: FutureWarning: The loss 'log' was deprecated in v1.1 and will be removed in version 1.3. Use `loss='log_loss'` which is equivalent.\n",
      "  warnings.warn(\n"
     ]
    },
    {
     "ename": "ValueError",
     "evalue": "y should be a 1d array, got an array of shape (1716, 2812) instead.",
     "output_type": "error",
     "traceback": [
      "\u001b[1;31m---------------------------------------------------------------------------\u001b[0m",
      "\u001b[1;31mValueError\u001b[0m                                Traceback (most recent call last)",
      "\u001b[1;32mc:\\Users\\David\\Downloads\\data_w_spotify.csv\\process.ipynb Cell 4\u001b[0m in \u001b[0;36m<module>\u001b[1;34m\u001b[0m\n\u001b[0;32m      <a href='vscode-notebook-cell:/c%3A/Users/David/Downloads/data_w_spotify.csv/process.ipynb#W4sZmlsZQ%3D%3D?line=7'>8</a>\u001b[0m \u001b[39mfrom\u001b[39;00m \u001b[39msklearn\u001b[39;00m\u001b[39m.\u001b[39;00m\u001b[39mmodel_selection\u001b[39;00m \u001b[39mimport\u001b[39;00m GridSearchCV\n\u001b[0;32m     <a href='vscode-notebook-cell:/c%3A/Users/David/Downloads/data_w_spotify.csv/process.ipynb#W4sZmlsZQ%3D%3D?line=9'>10</a>\u001b[0m clf \u001b[39m=\u001b[39m SGDClassifier(loss\u001b[39m=\u001b[39m\u001b[39m\"\u001b[39m\u001b[39mlog\u001b[39m\u001b[39m\"\u001b[39m, penalty\u001b[39m=\u001b[39m\u001b[39m\"\u001b[39m\u001b[39ml2\u001b[39m\u001b[39m\"\u001b[39m)\n\u001b[1;32m---> <a href='vscode-notebook-cell:/c%3A/Users/David/Downloads/data_w_spotify.csv/process.ipynb#W4sZmlsZQ%3D%3D?line=10'>11</a>\u001b[0m clf\u001b[39m.\u001b[39;49mfit(X_train, y_train)\n\u001b[0;32m     <a href='vscode-notebook-cell:/c%3A/Users/David/Downloads/data_w_spotify.csv/process.ipynb#W4sZmlsZQ%3D%3D?line=11'>12</a>\u001b[0m y_pred \u001b[39m=\u001b[39m clf\u001b[39m.\u001b[39mpredict(X_test)\n\u001b[0;32m     <a href='vscode-notebook-cell:/c%3A/Users/David/Downloads/data_w_spotify.csv/process.ipynb#W4sZmlsZQ%3D%3D?line=13'>14</a>\u001b[0m \u001b[39mprint\u001b[39m(\u001b[39m'\u001b[39m\u001b[39mAccuracy: \u001b[39m\u001b[39m{:.2f}\u001b[39;00m\u001b[39m'\u001b[39m\u001b[39m.\u001b[39mformat(accuracy_score(y_test, y_pred)))\n",
      "File \u001b[1;32m~\\AppData\\Local\\Packages\\PythonSoftwareFoundation.Python.3.9_qbz5n2kfra8p0\\LocalCache\\local-packages\\Python39\\site-packages\\sklearn\\linear_model\\_stochastic_gradient.py:890\u001b[0m, in \u001b[0;36mBaseSGDClassifier.fit\u001b[1;34m(self, X, y, coef_init, intercept_init, sample_weight)\u001b[0m\n\u001b[0;32m    862\u001b[0m \u001b[39mdef\u001b[39;00m \u001b[39mfit\u001b[39m(\u001b[39mself\u001b[39m, X, y, coef_init\u001b[39m=\u001b[39m\u001b[39mNone\u001b[39;00m, intercept_init\u001b[39m=\u001b[39m\u001b[39mNone\u001b[39;00m, sample_weight\u001b[39m=\u001b[39m\u001b[39mNone\u001b[39;00m):\n\u001b[0;32m    863\u001b[0m     \u001b[39m\"\"\"Fit linear model with Stochastic Gradient Descent.\u001b[39;00m\n\u001b[0;32m    864\u001b[0m \n\u001b[0;32m    865\u001b[0m \u001b[39m    Parameters\u001b[39;00m\n\u001b[1;32m   (...)\u001b[0m\n\u001b[0;32m    888\u001b[0m \u001b[39m        Returns an instance of self.\u001b[39;00m\n\u001b[0;32m    889\u001b[0m \u001b[39m    \"\"\"\u001b[39;00m\n\u001b[1;32m--> 890\u001b[0m     \u001b[39mreturn\u001b[39;00m \u001b[39mself\u001b[39;49m\u001b[39m.\u001b[39;49m_fit(\n\u001b[0;32m    891\u001b[0m         X,\n\u001b[0;32m    892\u001b[0m         y,\n\u001b[0;32m    893\u001b[0m         alpha\u001b[39m=\u001b[39;49m\u001b[39mself\u001b[39;49m\u001b[39m.\u001b[39;49malpha,\n\u001b[0;32m    894\u001b[0m         C\u001b[39m=\u001b[39;49m\u001b[39m1.0\u001b[39;49m,\n\u001b[0;32m    895\u001b[0m         loss\u001b[39m=\u001b[39;49m\u001b[39mself\u001b[39;49m\u001b[39m.\u001b[39;49mloss,\n\u001b[0;32m    896\u001b[0m         learning_rate\u001b[39m=\u001b[39;49m\u001b[39mself\u001b[39;49m\u001b[39m.\u001b[39;49mlearning_rate,\n\u001b[0;32m    897\u001b[0m         coef_init\u001b[39m=\u001b[39;49mcoef_init,\n\u001b[0;32m    898\u001b[0m         intercept_init\u001b[39m=\u001b[39;49mintercept_init,\n\u001b[0;32m    899\u001b[0m         sample_weight\u001b[39m=\u001b[39;49msample_weight,\n\u001b[0;32m    900\u001b[0m     )\n",
      "File \u001b[1;32m~\\AppData\\Local\\Packages\\PythonSoftwareFoundation.Python.3.9_qbz5n2kfra8p0\\LocalCache\\local-packages\\Python39\\site-packages\\sklearn\\linear_model\\_stochastic_gradient.py:665\u001b[0m, in \u001b[0;36mBaseSGDClassifier._fit\u001b[1;34m(self, X, y, alpha, C, loss, learning_rate, coef_init, intercept_init, sample_weight)\u001b[0m\n\u001b[0;32m    661\u001b[0m     \u001b[39mdelattr\u001b[39m(\u001b[39mself\u001b[39m, \u001b[39m\"\u001b[39m\u001b[39mclasses_\u001b[39m\u001b[39m\"\u001b[39m)\n\u001b[0;32m    663\u001b[0m \u001b[39m# labels can be encoded as float, int, or string literals\u001b[39;00m\n\u001b[0;32m    664\u001b[0m \u001b[39m# np.unique sorts in asc order; largest class id is positive class\u001b[39;00m\n\u001b[1;32m--> 665\u001b[0m y \u001b[39m=\u001b[39m \u001b[39mself\u001b[39;49m\u001b[39m.\u001b[39;49m_validate_data(y\u001b[39m=\u001b[39;49my)\n\u001b[0;32m    666\u001b[0m classes \u001b[39m=\u001b[39m np\u001b[39m.\u001b[39munique(y)\n\u001b[0;32m    668\u001b[0m \u001b[39mif\u001b[39;00m \u001b[39mself\u001b[39m\u001b[39m.\u001b[39mwarm_start \u001b[39mand\u001b[39;00m \u001b[39mhasattr\u001b[39m(\u001b[39mself\u001b[39m, \u001b[39m\"\u001b[39m\u001b[39mcoef_\u001b[39m\u001b[39m\"\u001b[39m):\n",
      "File \u001b[1;32m~\\AppData\\Local\\Packages\\PythonSoftwareFoundation.Python.3.9_qbz5n2kfra8p0\\LocalCache\\local-packages\\Python39\\site-packages\\sklearn\\base.py:580\u001b[0m, in \u001b[0;36mBaseEstimator._validate_data\u001b[1;34m(self, X, y, reset, validate_separately, **check_params)\u001b[0m\n\u001b[0;32m    578\u001b[0m     out \u001b[39m=\u001b[39m X\n\u001b[0;32m    579\u001b[0m \u001b[39melif\u001b[39;00m no_val_X \u001b[39mand\u001b[39;00m \u001b[39mnot\u001b[39;00m no_val_y:\n\u001b[1;32m--> 580\u001b[0m     y \u001b[39m=\u001b[39m _check_y(y, \u001b[39m*\u001b[39m\u001b[39m*\u001b[39mcheck_params)\n\u001b[0;32m    581\u001b[0m     out \u001b[39m=\u001b[39m y\n\u001b[0;32m    582\u001b[0m \u001b[39melse\u001b[39;00m:\n",
      "File \u001b[1;32m~\\AppData\\Local\\Packages\\PythonSoftwareFoundation.Python.3.9_qbz5n2kfra8p0\\LocalCache\\local-packages\\Python39\\site-packages\\sklearn\\utils\\validation.py:1111\u001b[0m, in \u001b[0;36m_check_y\u001b[1;34m(y, multi_output, y_numeric, estimator)\u001b[0m\n\u001b[0;32m   1109\u001b[0m \u001b[39melse\u001b[39;00m:\n\u001b[0;32m   1110\u001b[0m     estimator_name \u001b[39m=\u001b[39m _check_estimator_name(estimator)\n\u001b[1;32m-> 1111\u001b[0m     y \u001b[39m=\u001b[39m column_or_1d(y, warn\u001b[39m=\u001b[39;49m\u001b[39mTrue\u001b[39;49;00m)\n\u001b[0;32m   1112\u001b[0m     _assert_all_finite(y, input_name\u001b[39m=\u001b[39m\u001b[39m\"\u001b[39m\u001b[39my\u001b[39m\u001b[39m\"\u001b[39m, estimator_name\u001b[39m=\u001b[39mestimator_name)\n\u001b[0;32m   1113\u001b[0m     _ensure_no_complex_data(y)\n",
      "File \u001b[1;32m~\\AppData\\Local\\Packages\\PythonSoftwareFoundation.Python.3.9_qbz5n2kfra8p0\\LocalCache\\local-packages\\Python39\\site-packages\\sklearn\\utils\\validation.py:1156\u001b[0m, in \u001b[0;36mcolumn_or_1d\u001b[1;34m(y, warn)\u001b[0m\n\u001b[0;32m   1147\u001b[0m         warnings\u001b[39m.\u001b[39mwarn(\n\u001b[0;32m   1148\u001b[0m             \u001b[39m\"\u001b[39m\u001b[39mA column-vector y was passed when a 1d array was\u001b[39m\u001b[39m\"\u001b[39m\n\u001b[0;32m   1149\u001b[0m             \u001b[39m\"\u001b[39m\u001b[39m expected. Please change the shape of y to \u001b[39m\u001b[39m\"\u001b[39m\n\u001b[1;32m   (...)\u001b[0m\n\u001b[0;32m   1152\u001b[0m             stacklevel\u001b[39m=\u001b[39m\u001b[39m2\u001b[39m,\n\u001b[0;32m   1153\u001b[0m         )\n\u001b[0;32m   1154\u001b[0m     \u001b[39mreturn\u001b[39;00m np\u001b[39m.\u001b[39mravel(y)\n\u001b[1;32m-> 1156\u001b[0m \u001b[39mraise\u001b[39;00m \u001b[39mValueError\u001b[39;00m(\n\u001b[0;32m   1157\u001b[0m     \u001b[39m\"\u001b[39m\u001b[39my should be a 1d array, got an array of shape \u001b[39m\u001b[39m{}\u001b[39;00m\u001b[39m instead.\u001b[39m\u001b[39m\"\u001b[39m\u001b[39m.\u001b[39mformat(shape)\n\u001b[0;32m   1158\u001b[0m )\n",
      "\u001b[1;31mValueError\u001b[0m: y should be a 1d array, got an array of shape (1716, 2812) instead."
     ]
    }
   ],
   "source": [
    "# # For chapter 5\n",
    "# from sklearn.linear_model import SGDClassifier\n",
    "# import matplotlib.pyplot as plt\n",
    "# import time\n",
    "\n",
    "# # For chapter 6\n",
    "# from sklearn.metrics import accuracy_score\n",
    "# from sklearn.model_selection import GridSearchCV\n",
    "\n",
    "# clf = SGDClassifier(loss=\"log\", penalty=\"l2\")\n",
    "# clf.fit(X_train, y_train)\n",
    "# y_pred = clf.predict(X_test)\n",
    "\n",
    "# print('Accuracy: {:.2f}'.format(accuracy_score(y_test, y_pred)))"
   ]
  },
  {
   "cell_type": "code",
   "execution_count": 145,
   "metadata": {},
   "outputs": [
    {
     "name": "stdout",
     "output_type": "stream",
     "text": [
      "Training Model...\n",
      "Train MAE: 1.0\n",
      "Test MAE: 0.9947552447552448\n"
     ]
    },
    {
     "data": {
      "image/png": "[encoded data removed]",
      "text/plain": [
       "<Figure size 720x432 with 2 Axes>"
      ]
     },
     "metadata": {
      "needs_background": "light"
     },
     "output_type": "display_data"
    }
   ],
   "source": [
    "import numpy as np\n",
    "import ast\n",
    "import pytz\n",
    "import math\n",
    "import itertools\n",
    "from sklearn.preprocessing import LabelBinarizer\n",
    "import pandas as pd\n",
    "import sklearn\n",
    "from sklearn.tree import DecisionTreeClassifier\n",
    "from sklearn.model_selection import train_test_split\n",
    "from sklearn.metrics import mean_absolute_error,accuracy_score,confusion_matrix\n",
    "from sklearn.model_selection import GridSearchCV\n",
    "import seaborn as sb\n",
    "import matplotlib.pyplot as plt\n",
    "\n",
    "df = pd.read_csv('top10K-spotify.csv',index_col=0)\n",
    "df[\"type\"].value_counts()\n",
    "df=df.drop(columns=['artist',\"index\",\"city_1\",\"district_1\",\"district_2\",\"city_3\",\"district_3\" ])\n",
    "# print(df.head(),df.shape)\n",
    "df = df[df['city_2'].notna()]\n",
    "df = df[df['country'].notna()]\n",
    "data_df = pd.get_dummies(df,columns=['gender','country','city_2'],drop_first=True)\n",
    "# print(data_df.dtypes)\n",
    "\n",
    "data_df['type'] = data_df['type'].astype('str') \n",
    "X = data_df.drop(columns=['type'])\n",
    "\n",
    "lb = LabelBinarizer()\n",
    "y=lb.fit_transform(data_df['type'])\n",
    "print(\"Training Model...\")\n",
    "\n",
    "X_train, X_test, y_train, y_test = train_test_split(X, y, test_size=0.2, random_state=24)\n",
    "\n",
    "model = DecisionTreeClassifier()\n",
    "\n",
    "model.fit(X_train, y_train)\n",
    "\n",
    "# parameters = {'max_depth':range(3,20)}\n",
    "# clf = GridSearchCV(DecisionTreeClassifier(), parameters, n_jobs=4)\n",
    "# clf.fit(X=X, y=y)\n",
    "# tree_model = clf.best_estimator_\n",
    "# print (clf.best_score_, clf.best_params_) \n",
    "\n",
    "y_train_pred = model.predict(X_train)\n",
    "y_test_pred = model.predict(X_test)\n",
    "\n",
    "\n",
    "print(f\"Train MAE: {accuracy_score(y_train_pred, y_train)}\")\n",
    "print(f\"Test MAE: {accuracy_score(y_test_pred, y_test)}\")\n",
    "\n",
    "cm = confusion_matrix(y_test.argmax(axis=1),y_test_pred.argmax(axis=1) )\n",
    "plt.subplots(figsize=(10, 6))\n",
    "sb.heatmap(cm, annot = True, fmt = 'g')\n",
    "plt.xlabel(\"Predicted\")\n",
    "plt.ylabel(\"Actual\")\n",
    "plt.title(\"Confusion Matrix\")\n",
    "plt.show()"
   ]
  },
  {
   "cell_type": "code",
   "execution_count": 22,
   "metadata": {},
   "outputs": [
    {
     "ename": "MemoryError",
     "evalue": "Unable to allocate 1.20 GiB for an array with shape (3579, 45034) and data type float64",
     "output_type": "error",
     "traceback": [
      "\u001b[1;31m---------------------------------------------------------------------------\u001b[0m",
      "\u001b[1;31mMemoryError\u001b[0m                               Traceback (most recent call last)",
      "\u001b[1;32mc:\\Users\\David\\Downloads\\data_w_spotify.csv\\process.ipynb Cell 3\u001b[0m in \u001b[0;36m<module>\u001b[1;34m\u001b[0m\n\u001b[1;32m----> <a href='vscode-notebook-cell:/c%3A/Users/David/Downloads/data_w_spotify.csv/process.ipynb#W2sZmlsZQ%3D%3D?line=0'>1</a>\u001b[0m df1\u001b[39m=\u001b[39mnodes\u001b[39m.\u001b[39;49mappend(df, ignore_index\u001b[39m=\u001b[39;49m\u001b[39mTrue\u001b[39;49;00m)\n",
      "File \u001b[1;32m~\\AppData\\Local\\Packages\\PythonSoftwareFoundation.Python.3.9_qbz5n2kfra8p0\\LocalCache\\local-packages\\Python39\\site-packages\\pandas\\core\\frame.py:8965\u001b[0m, in \u001b[0;36mDataFrame.append\u001b[1;34m(self, other, ignore_index, verify_integrity, sort)\u001b[0m\n\u001b[0;32m   8962\u001b[0m \u001b[39melse\u001b[39;00m:\n\u001b[0;32m   8963\u001b[0m     to_concat \u001b[39m=\u001b[39m [\u001b[39mself\u001b[39m, other]\n\u001b[0;32m   8964\u001b[0m \u001b[39mreturn\u001b[39;00m (\n\u001b[1;32m-> 8965\u001b[0m     concat(\n\u001b[0;32m   8966\u001b[0m         to_concat,\n\u001b[0;32m   8967\u001b[0m         ignore_index\u001b[39m=\u001b[39;49mignore_index,\n\u001b[0;32m   8968\u001b[0m         verify_integrity\u001b[39m=\u001b[39;49mverify_integrity,\n\u001b[0;32m   8969\u001b[0m         sort\u001b[39m=\u001b[39;49msort,\n\u001b[0;32m   8970\u001b[0m     )\n\u001b[0;32m   8971\u001b[0m )\u001b[39m.\u001b[39m__finalize__(\u001b[39mself\u001b[39m, method\u001b[39m=\u001b[39m\u001b[39m\"\u001b[39m\u001b[39mappend\u001b[39m\u001b[39m\"\u001b[39m)\n",
      "File \u001b[1;32m~\\AppData\\Local\\Packages\\PythonSoftwareFoundation.Python.3.9_qbz5n2kfra8p0\\LocalCache\\local-packages\\Python39\\site-packages\\pandas\\util\\_decorators.py:311\u001b[0m, in \u001b[0;36mdeprecate_nonkeyword_arguments.<locals>.decorate.<locals>.wrapper\u001b[1;34m(*args, **kwargs)\u001b[0m\n\u001b[0;32m    305\u001b[0m \u001b[39mif\u001b[39;00m \u001b[39mlen\u001b[39m(args) \u001b[39m>\u001b[39m num_allow_args:\n\u001b[0;32m    306\u001b[0m     warnings\u001b[39m.\u001b[39mwarn(\n\u001b[0;32m    307\u001b[0m         msg\u001b[39m.\u001b[39mformat(arguments\u001b[39m=\u001b[39marguments),\n\u001b[0;32m    308\u001b[0m         \u001b[39mFutureWarning\u001b[39;00m,\n\u001b[0;32m    309\u001b[0m         stacklevel\u001b[39m=\u001b[39mstacklevel,\n\u001b[0;32m    310\u001b[0m     )\n\u001b[1;32m--> 311\u001b[0m \u001b[39mreturn\u001b[39;00m func(\u001b[39m*\u001b[39margs, \u001b[39m*\u001b[39m\u001b[39m*\u001b[39mkwargs)\n",
      "File \u001b[1;32m~\\AppData\\Local\\Packages\\PythonSoftwareFoundation.Python.3.9_qbz5n2kfra8p0\\LocalCache\\local-packages\\Python39\\site-packages\\pandas\\core\\reshape\\concat.py:307\u001b[0m, in \u001b[0;36mconcat\u001b[1;34m(objs, axis, join, ignore_index, keys, levels, names, verify_integrity, sort, copy)\u001b[0m\n\u001b[0;32m    103\u001b[0m \u001b[39m\"\"\"\u001b[39;00m\n\u001b[0;32m    104\u001b[0m \u001b[39mConcatenate pandas objects along a particular axis with optional set logic\u001b[39;00m\n\u001b[0;32m    105\u001b[0m \u001b[39malong the other axes.\u001b[39;00m\n\u001b[1;32m   (...)\u001b[0m\n\u001b[0;32m    292\u001b[0m \u001b[39mValueError: Indexes have overlapping values: ['a']\u001b[39;00m\n\u001b[0;32m    293\u001b[0m \u001b[39m\"\"\"\u001b[39;00m\n\u001b[0;32m    294\u001b[0m op \u001b[39m=\u001b[39m _Concatenator(\n\u001b[0;32m    295\u001b[0m     objs,\n\u001b[0;32m    296\u001b[0m     axis\u001b[39m=\u001b[39maxis,\n\u001b[1;32m   (...)\u001b[0m\n\u001b[0;32m    304\u001b[0m     sort\u001b[39m=\u001b[39msort,\n\u001b[0;32m    305\u001b[0m )\n\u001b[1;32m--> 307\u001b[0m \u001b[39mreturn\u001b[39;00m op\u001b[39m.\u001b[39;49mget_result()\n",
      "File \u001b[1;32m~\\AppData\\Local\\Packages\\PythonSoftwareFoundation.Python.3.9_qbz5n2kfra8p0\\LocalCache\\local-packages\\Python39\\site-packages\\pandas\\core\\reshape\\concat.py:532\u001b[0m, in \u001b[0;36m_Concatenator.get_result\u001b[1;34m(self)\u001b[0m\n\u001b[0;32m    528\u001b[0m             indexers[ax] \u001b[39m=\u001b[39m obj_labels\u001b[39m.\u001b[39mget_indexer(new_labels)\n\u001b[0;32m    530\u001b[0m     mgrs_indexers\u001b[39m.\u001b[39mappend((obj\u001b[39m.\u001b[39m_mgr, indexers))\n\u001b[1;32m--> 532\u001b[0m new_data \u001b[39m=\u001b[39m concatenate_managers(\n\u001b[0;32m    533\u001b[0m     mgrs_indexers, \u001b[39mself\u001b[39;49m\u001b[39m.\u001b[39;49mnew_axes, concat_axis\u001b[39m=\u001b[39;49m\u001b[39mself\u001b[39;49m\u001b[39m.\u001b[39;49mbm_axis, copy\u001b[39m=\u001b[39;49m\u001b[39mself\u001b[39;49m\u001b[39m.\u001b[39;49mcopy\n\u001b[0;32m    534\u001b[0m )\n\u001b[0;32m    535\u001b[0m \u001b[39mif\u001b[39;00m \u001b[39mnot\u001b[39;00m \u001b[39mself\u001b[39m\u001b[39m.\u001b[39mcopy:\n\u001b[0;32m    536\u001b[0m     new_data\u001b[39m.\u001b[39m_consolidate_inplace()\n",
      "File \u001b[1;32m~\\AppData\\Local\\Packages\\PythonSoftwareFoundation.Python.3.9_qbz5n2kfra8p0\\LocalCache\\local-packages\\Python39\\site-packages\\pandas\\core\\internals\\concat.py:226\u001b[0m, in \u001b[0;36mconcatenate_managers\u001b[1;34m(mgrs_indexers, axes, concat_axis, copy)\u001b[0m\n\u001b[0;32m    224\u001b[0m     fastpath \u001b[39m=\u001b[39m blk\u001b[39m.\u001b[39mvalues\u001b[39m.\u001b[39mdtype \u001b[39m==\u001b[39m values\u001b[39m.\u001b[39mdtype\n\u001b[0;32m    225\u001b[0m \u001b[39melse\u001b[39;00m:\n\u001b[1;32m--> 226\u001b[0m     values \u001b[39m=\u001b[39m _concatenate_join_units(join_units, concat_axis, copy\u001b[39m=\u001b[39;49mcopy)\n\u001b[0;32m    227\u001b[0m     fastpath \u001b[39m=\u001b[39m \u001b[39mFalse\u001b[39;00m\n\u001b[0;32m    229\u001b[0m \u001b[39mif\u001b[39;00m fastpath:\n",
      "File \u001b[1;32m~\\AppData\\Local\\Packages\\PythonSoftwareFoundation.Python.3.9_qbz5n2kfra8p0\\LocalCache\\local-packages\\Python39\\site-packages\\pandas\\core\\internals\\concat.py:523\u001b[0m, in \u001b[0;36m_concatenate_join_units\u001b[1;34m(join_units, concat_axis, copy)\u001b[0m\n\u001b[0;32m    520\u001b[0m     concat_values \u001b[39m=\u001b[39m ensure_block_shape(concat_values, \u001b[39m2\u001b[39m)\n\u001b[0;32m    522\u001b[0m \u001b[39melse\u001b[39;00m:\n\u001b[1;32m--> 523\u001b[0m     concat_values \u001b[39m=\u001b[39m concat_compat(to_concat, axis\u001b[39m=\u001b[39;49mconcat_axis)\n\u001b[0;32m    525\u001b[0m \u001b[39mreturn\u001b[39;00m concat_values\n",
      "File \u001b[1;32m~\\AppData\\Local\\Packages\\PythonSoftwareFoundation.Python.3.9_qbz5n2kfra8p0\\LocalCache\\local-packages\\Python39\\site-packages\\pandas\\core\\dtypes\\concat.py:151\u001b[0m, in \u001b[0;36mconcat_compat\u001b[1;34m(to_concat, axis, ea_compat_axis)\u001b[0m\n\u001b[0;32m    147\u001b[0m         \u001b[39melse\u001b[39;00m:\n\u001b[0;32m    148\u001b[0m             \u001b[39m# coerce to object\u001b[39;00m\n\u001b[0;32m    149\u001b[0m             to_concat \u001b[39m=\u001b[39m [x\u001b[39m.\u001b[39mastype(\u001b[39m\"\u001b[39m\u001b[39mobject\u001b[39m\u001b[39m\"\u001b[39m) \u001b[39mfor\u001b[39;00m x \u001b[39min\u001b[39;00m to_concat]\n\u001b[1;32m--> 151\u001b[0m \u001b[39mreturn\u001b[39;00m np\u001b[39m.\u001b[39;49mconcatenate(to_concat, axis\u001b[39m=\u001b[39;49maxis)\n",
      "File \u001b[1;32m<__array_function__ internals>:180\u001b[0m, in \u001b[0;36mconcatenate\u001b[1;34m(*args, **kwargs)\u001b[0m\n",
      "\u001b[1;31mMemoryError\u001b[0m: Unable to allocate 1.20 GiB for an array with shape (3579, 45034) and data type float64"
     ]
    }
   ],
   "source": [
    "df1=nodes.append(df, ignore_index=True)"
   ]
  }
 ],
 "metadata": {
  "kernelspec": {
   "display_name": "Python 3",
   "language": "python",
   "name": "python3"
  },
  "language_info": {
   "codemirror_mode": {
    "name": "ipython",
    "version": 3
   },
   "file_extension": ".py",
   "mimetype": "text/x-python",
   "name": "python",
   "nbconvert_exporter": "python",
   "pygments_lexer": "ipython3",
   "version": "3.9.13"
  },
  "orig_nbformat": 4,
  "vscode": {
   "interpreter": {
    "hash": "a74b712383a3e75831ff1ecb7296e60927a7930cb4d0a661c5a9e6869b27c0a0"
   }
  }
 },
 "nbformat": 4,
 "nbformat_minor": 2
}
