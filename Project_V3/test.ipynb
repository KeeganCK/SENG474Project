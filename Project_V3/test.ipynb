{
 "cells": [
  {
   "cell_type": "code",
   "execution_count": 14,
   "metadata": {},
   "outputs": [
    {
     "name": "stdout",
     "output_type": "stream",
     "text": [
      "(1416, 11) Index(['name', 'gender', 'age', 'type', 'country', 'city_2', 'spotifyid',\n",
      "       'genres', 'popularity', 'followers', 'soup'],\n",
      "      dtype='object')\n"
     ]
    }
   ],
   "source": [
    "import numpy as np\n",
    "import ast\n",
    "import pytz\n",
    "import math\n",
    "import itertools\n",
    "from sklearn.preprocessing import LabelBinarizer\n",
    "import pandas as pd\n",
    "import sklearn\n",
    "from sklearn.tree import DecisionTreeClassifier\n",
    "from sklearn.model_selection import train_test_split\n",
    "from sklearn.metrics import mean_absolute_error,accuracy_score\n",
    "from sklearn.model_selection import GridSearchCV\n",
    "from sklearn.feature_extraction.text import TfidfVectorizer,HashingVectorizer\n",
    "from sklearn.metrics.pairwise import linear_kernel\n",
    "from sklearn.feature_extraction.text import CountVectorizer\n",
    "from sklearn.metrics.pairwise import cosine_similarity, euclidean_distances\n",
    "import matplotlib.pyplot as plt\n",
    "from sklearn.manifold import TSNE\n",
    "from sklearn.feature_selection import r_regression \n",
    "np.random.seed(1337)\n",
    "df = pd.read_csv('top10K-spotify.csv',index_col=0)\n",
    "df[\"type\"].value_counts()\n",
    "df=df.drop(columns=[\"index\",\"city_1\",\"district_1\",\"district_2\",\"city_3\",\"district_3\" ])\n",
    "df = df[df['city_2'].notna()]\n",
    "df = df[df['country'].notna()]\n",
    "df.rename(columns = {'artist':'name'}, inplace = True)\n",
    "\n",
    "df2=pd.read_csv('data_w_spotify.csv',index_col=None)\n",
    "df2=df2.drop(columns=[\"isdone\",\"id\"])\n",
    "df2['genres'] = df2['genres'].fillna('')\n",
    "\n",
    "df3=df.merge(df2,on='name')\n",
    "\n",
    "df3['genres']= df3['genres'].str.strip('[]').str.replace(\"'\",\"\").str.split('\\s*,\\s*')\n",
    "\n",
    "def create_soup(x):\n",
    "    return ' '.join(x['genres']) + ' '+ x['city_2'] + ' ' + x['country']+' ' + x['gender']+ ' ' + x['type']\n",
    "\n",
    "df3['soup'] = df3.apply(create_soup, axis=1)\n",
    "print(df3.shape,df3.columns)\n",
    "\n",
    "dict_names = dict(zip(df3.name, df3.spotifyid))\n",
    "\n",
    "df = df.reset_index()\n",
    "indices = pd.Series(df3.index, index=df3['name']).drop_duplicates()\n",
    "\n",
    "\n",
    "\n",
    "def get_recommendations(name,sim,reverse):\n",
    "    print(sim[0:20])\n",
    "    # print(name,sim)\n",
    "    indices = pd.Series(df3.index, index=df3['name']).drop_duplicates()\n",
    "    idx = indices[name]\n",
    "\n",
    "    # Get the pairwsie similarity scores of all movies with that movie\n",
    "    sim_scores = list(enumerate(sim[idx]))\n",
    "\n",
    "    # Sort the movies based on the similarity scores\n",
    "    sim_scores = sorted(sim_scores, key=lambda x: x[1], reverse=reverse)\n",
    "\n",
    "    # Get the scores of the 10 most similar movies\n",
    "    sim_scores = sim_scores[1:11]\n",
    "\n",
    "     # Get the movie indices\n",
    "    indices = [i[0] for i in sim_scores]\n",
    "    scores = [round(i[1]*100, 2) for i in sim_scores]\n",
    "\n",
    "    # Return the top 10 most similar movies\n",
    "     \n",
    "    top_10=df3['name'].iloc[indices]\n",
    "    spot_top10=[]\n",
    "    for item in top_10:\n",
    "        spot_top10.append(dict_names[str(item)])\n",
    "\n",
    "    artist=dict_names[str(df3['name'].iloc[idx])]\n",
    "    \n",
    "    wantedDict = {\n",
    "        'mainId': artist,\n",
    "        'top10': spot_top10,\n",
    "        'scores': scores\n",
    "    }\n",
    "    return wantedDict\n",
    "\n",
    "\n"
   ]
  },
  {
   "cell_type": "code",
   "execution_count": 15,
   "metadata": {},
   "outputs": [],
   "source": [
    "def CVectorizer():\n",
    "    count = CountVectorizer()\n",
    "    count_matrix = count.fit_transform(df3['soup'])\n",
    "    return count_matrix\n",
    "\n",
    "def CosSim(x):\n",
    "    return (cosine_similarity(x,x),True)"
   ]
  },
  {
   "cell_type": "code",
   "execution_count": 16,
   "metadata": {},
   "outputs": [],
   "source": [
    "def TfidVectorizer():\n",
    "    count = TfidfVectorizer()\n",
    "    count_matrix = count.fit_transform(df3['soup'])\n",
    "    return count_matrix\n",
    "\n",
    "def EuDSim(x):\n",
    "    return (euclidean_distances(x,), False)"
   ]
  },
  {
   "cell_type": "code",
   "execution_count": 17,
   "metadata": {},
   "outputs": [
    {
     "name": "stdout",
     "output_type": "stream",
     "text": [
      "[[0.         4.79583152 5.         ... 5.83095189 5.29150262 5.65685425]\n",
      " [4.79583152 0.         4.47213595 ... 5.19615242 4.35889894 5.19615242]\n",
      " [5.         4.47213595 0.         ... 4.12310563 3.60555128 3.60555128]\n",
      " ...\n",
      " [5.56776436 5.29150262 2.44948974 ... 4.58257569 4.58257569 4.12310563]\n",
      " [4.89897949 2.64575131 4.12310563 ... 4.89897949 4.         4.89897949]\n",
      " [5.74456265 5.29150262 3.46410162 ... 4.79583152 4.79583152 4.35889894]]\n"
     ]
    },
    {
     "data": {
      "text/plain": [
       "{'mainId': '4gzpq5DPGxSnKTe4SA8HAU',\n",
       " 'top10': ['4axSNjwNJoWLJM6HPqxEzz',\n",
       "  '4axSNjwNJoWLJM6HPqxEzz',\n",
       "  '4axSNjwNJoWLJM6HPqxEzz',\n",
       "  '4axSNjwNJoWLJM6HPqxEzz',\n",
       "  '4axSNjwNJoWLJM6HPqxEzz',\n",
       "  '0sYpJ0nCC8AlDrZFeAA7ub',\n",
       "  '0sYpJ0nCC8AlDrZFeAA7ub',\n",
       "  '46CitWgnWrvF9t70C2p1Me',\n",
       "  '0TytASn0kOZkCpjYTrXsBt',\n",
       "  '7oPftvlwr6VrsViSDV7fJY'],\n",
       " 'scores': [173.21,\n",
       "  173.21,\n",
       "  173.21,\n",
       "  173.21,\n",
       "  173.21,\n",
       "  200.0,\n",
       "  223.61,\n",
       "  223.61,\n",
       "  244.95,\n",
       "  244.95]}"
      ]
     },
     "execution_count": 17,
     "metadata": {},
     "output_type": "execute_result"
    }
   ],
   "source": [
    "#matrix=TfidVectorizer()\n",
    "matrix=CVectorizer()\n",
    "sim,reverse = EuDSim(matrix)\n",
    "#im,reverse = CosSim(matrix)\n",
    "\n",
    "get_recommendations(\"Coldplay\",sim,reverse)"
   ]
  },
  {
   "cell_type": "code",
   "execution_count": 18,
   "metadata": {},
   "outputs": [],
   "source": [
    "def Random_tester():\n",
    "    rand= np.random.randint(0,len(df3),300)\n",
    "    return rand\n",
    "\n",
    "sample=Random_tester()\n",
    "df_sample=pd.DataFrame(sample)\n",
    "# df_sample.to_csv(\"random.csv\",index=False)"
   ]
  },
  {
   "cell_type": "code",
   "execution_count": 49,
   "metadata": {},
   "outputs": [
    {
     "name": "stdout",
     "output_type": "stream",
     "text": [
      "['1pPWAweVqMBxqTvvWEVtQc', '1ZpLpz4tFdvUocboq1KX3M', '7mnmr8BPHhEEYFwIHlclFt', '0vbfrsbTQsxmBTrvtZTFB4', '0n1kV1G3NQrfuLGJosIGxb', '47YlbKJ9aZM3HVa0lUXHZ0', '3yeIPSXgA3NRNwNaHy4EZW', '2XGaD0VuieQxr4zvfjDzmC', '7b4qgFeygnbXxcH3cvKl1D', '3g5QiiBmEWt5a3WaW1zArB', '4JShzqEj36XDRzWrQnou74', '4P5ooDKThRs2cx6MZ7cpFg', '74pYbw2hCJjXyYitTfyT9F', '4eZg2h2Qez5XuD6PQAqGie', '62TYO8MQIPGNVne59x3AqS', '5PKNAQEEXyfYEmteXrSCGI', '3XoTY8az7uO60cs72LN1K6', '7f9f5zKkxu7tvX5uj7lVwP', '1OJvqVmekd5OPxlTeHmlBl', '0zw17mk0oEnrv4STjNgxsr']\n",
      "['2VAnyOxzJuSAj7XIuEOT38', '7A0awCXkE1FtSU8B0qwOJQ', '1O10apSOoAPjOu6UhUNmeI', '4VNQWV2y1E97Eqo2D5UTjx', '61lyPtntblHJvA7FMMhi7E', '4csQIMQm6vI2A2SCVDuM2z', '1lc8mnyGrCLtPhCoWjRxjM', '6nxWCVXbOlEVRexSbLsTer', '0GG2cWaonE4JPrjcCCQ1EG', '5vfEaoOBcK0Lzr07WN8KaK', '4VivsO1n4n2Mi2Btyb5gfL', '4qobOrZpdUri80gScwsHfs', '5Q81rlcTFh3k6DQJXPdsot', '5ITI6SEoUZMIXXkzCfr4oE', '2FwJwEswyIUAljqgjNSHgP', '3cIXmCH7iNcslTbwrwS7zy', '3fmMaLC5jjf2N4EC2kTx0u', '5EehXjjMktLuJmbRsM7YfB', '1KpCi9BOfviCVhmpI4G2sY', '6n28c9qs9hNGriNa72b26u']\n",
      "['4vRSocKbGh7PsQrYRDVMEF', '2ddxtfC0oS8LoktXUHE7YL', '1vkJFCwstOoJO7yQ4lTtLK', '5wugb0kaq0J6nyQ5Xgd17i', '1dIdBZaaHRW2bDTkHNfWln', '4hqDqHtBlgxXpLXVYf7c8L', '6G9bygHlCyPgNGxK2l3YdE', '3SYGWAHCe31oykdeUPpoJp', '7o95ZoZt5ZYn31e9z1Hc0a', '6kUQJlewgd3UFKVYrrmILh', '4ntkql3f3ect7NDRUJ7aAY', '5LeiVcEnsZcwc133TUhJNW', '2tFN9ubMXEhdAQvdQxcsma', '1JfkqBTXs6VC3JZ7RJNu7h', '2Hjj68yyUPiC0HKEOigcEp', '7rPQ2z1ji1ctJ6oGYBAo6M', '0mzTssRDPIQVH5wSNzOdFZ', '7nU4hB040gTmHm45YYMvqc', '5QjWgYDeKNP2iPHTdTttnG', '6dJeKm76NjfXBNTpHmOhfO']\n",
      "['7EOPEWxWHIFhwHsTMF9EVq', '2Iehb2oybCzALPdIIzmt6I', '0QiCCpzEYPFaWqkWtDQTmH', '3yGHlfCop3TDHOBT6MRA8Z', '1BvLhDkql2F6d4G5aaajY2', '2cADQgiLMjNhbsfeN52Bf3', '2FmzVitXZjIkFolH8HXd4j', '7CCjtD0hCK005Bvg2WG1a7', '3ScY9CQxNLQei8Umvpx5g6', '27w1NoOLMX7tJMYqcetPyG', '5oNgAs7j5XcBMzWv3HAnHG', '7yPPzu5UdAK7yagQqjEZQm', '25fqWEebq6PoiGQIHIrdtv', '0ONHkAv9pCAFxb0zJwDNTy', '4lXqyfnO42fw7mPGF5ZXjR', '3GulSpXnCkqwVDg45tyly4', '4PcgIWHeqqLmAi7kCGiNet', '4exLIFE8sISLr28sqG1qNX', '1SAugjIcuwNPKS4urSB7A6', '']\n",
      "['2cWZOOzeOm4WmBJRnD5R7I', '42qq1SQuTH1AT2daN3fLMt', '1x1qM3ZqHhJOn11m42svnc', '1l8Fu6IkuTP0U5QetQJ5Xt', '63XBtGSEZINSyXylZxEUbv', '5dYdZmGyv2UTIN1XMe1drN', '2YFBOR9KIxC6WqHclkj9Yq', '1LzWWI9v4UKdbBgz8fqi15', '1CO6e7WRJvSFenmQO8n64C', '1BhWF9W2PngtPSyobKg0rP', '5pUo3fmmHT8bhCyHE52hA6', '0NIIxcxNHmOoyBx03SfTCD', '5xuNBZoM7z1Vv8IQ6uM0p6', '5Y8eJDj37KhaEeqbVO7Ag1', '6TXM1kV4L8DsDAkAfbOPYk', '3J0BpFVUc9LeOIVeN5uNhU', '79Vf9CdPRdl3At87uulP8y', '2z7BqfKvVlkr8KVAOTBKcz', '5CCwRZC6euC8Odo6y9X8jr', '1FtBEIWAwvw5ymBen5GICR']\n",
      "['4hTL3jOgvZwOqegEZTOrCc', '6u3PN3PCsWLGsw1OffKQ2F', '1uaS3ZokV40ZrpzSRhx4Ol', '5qfkUSH3ip5dD2eEPhjkT3', '0UFKnbRkop5zKvIHhbnMCI', '3UjPnt2nRmw10N58bBeNOg', '6iWuBN32BqCJAeXW6o3nil', '6TrQLQR8tUluPbmdPy6jqY', '6gj3sMEZYP6IESIptoXnrP', '5FdZDr2bMbEcnsEKRgO3rn', '6Zyna13TkHdrEc4NFljS9u', '6TvjXbopXg71XRM9OZWqUc', '66eJQM6S5JsDe0CdUXnwST', '6tDysK3IF96GLkAcaSzXfC', '7g0SC4F149FUX5rKFuSpqL', '3bnpcWBcvlfq4hPFJjNPbz', '3qfqqDpGv4XNfa3G0EfP9s', '61677A13kBwbTfqECI65p8', '4jwROPSUkTkohLCRiyjiZZ', '7fNI5DhplKeFCErRvzRCVO']\n",
      "['2B4ZHz4QDWJTXPFPgO5peE', '6NyJIFHAePjHR1pFxwisqz', '3NgwMzys77S7sgfh2W5k0V', '51FyBBOW464toW099BsW8z', '5Jz9kKRnCRLTodCH58MyB4', '3USpNaxpX1iNqNnQWqg9ob', '0b2XeWDPeBiLeskT6RFqMb', '7AjokpCIqf0gHMZJlodw2k', '6E8pGolyeInc820eQQak70', '76fO70b6BK2xt3UVOe4BIZ', '3zNM2tRfTX6LI1lN2PlrTt', '33ay6frFAk5xRMXayOWsil', '4tujQJicOnuZRLiBFdp3Ou', '4XqfpACObRB5AsBcUYjL8X', '4TqmaFJYM8SvuhrunxpmT3', '4pmNqFu71wEmFXSsYAiWK8', '60CFNa0ggWjV8OSDey8aGT', '3E2vuvr0IQbReTbXw2MhX8', '4sb7rZNN93BSS6Gqgepo4v', '2ERWeFslDVHB4E9pSSw845']\n",
      "['6kq4GHwUcUojGIu0ziSNXf', '64aJYyrXljOodnUG6jvhRD', '2QUvtLq6oQaX0LNsYY2fas', '7iK8PXO48WeuP03g8YR51W', '2DspEsT7UXGKd2VaaedgG4', '0EFisYRi20PTADoJrifHrz', '1i8SpTcr7yvPOmcqrbnVXY', '47MpMsUfWtgyIIBEFOr4FE', '1fux65HMCBvfJHqlBc4Nno', '1pf0MPKfKdvS8J779mS1Ay', '5hdhHgpxyniooUiQVaPxQ0', '6w9ToX5slZ4uIdmD17hJ3c', '00XhexlJEXQstHimpZN910', '1fctva4kpRbg2k3v7kwRuS', '0qTZZWLzuD59Un5r1speHm', '1jSjfSgDjedJdi5MoyRu78', '6nVcHLIgY5pE2YCl8ubca1', '1TA5sGRlKUJXBN4ZyJuDIX', '5bWUlnPx9OYKsLiUJrhCA1', '3RtNN1VnooWEn3KQk03DUL']\n",
      "['44NX2ffIYHr6D4n7RaZF7A', '2pdvghEHZJtgSXZ7cvNLou', '5lkiCO9UQ8B23dZ1o0UV4m', '0vn7UBvSQECKJm2817Yf1P', '08F3Y3SctIlsOEmKd6dnH8', '3mY9Ii0cL5SQxpOTAm8SHx', '1R6Hx1tJ2VOUyodEpC12xM', '70cRZdQywnSFp9pnc2WTCE', '4vpDg7Y7fU982Ds30zawDA', '3RTzAwFprBqiskp550eSJX', '2hO4YtXUFJiUYS2uYFvHNK', '1CYsQCypByMVgnv17qsSbQ', '1gRNBaI4yn6wCCTvRhGWh8', '319yZVtYM9MBGqmSQnMyY6', '23rleGXVOVVgTk3xgtmfE4', '7emRV8AluG3d4e5T0DZiK9', '6vLlQYujOujIrm7zAKzEdG', '7CCn4PFRRRZF127jtCBAUe', '0ZIwOAzDuGPspzK7yiTc4S', '7FIoB5PHdrMZVC3q2HE5MS']\n",
      "['1gR0gsQYfi6joyO1dlp76N', '0UF7XLthtbSF2Eur7559oV', '0iui2Be5CP8EWxvHYsVspL', '1GhPHrq36VKCY3ucVaZCfo', '0AkpPlFLnr0VQwZQeMGht0', '2fBURuq7FrlH6z5F92mpOl', '57dN52uHvrHOxijzpIgu3E', '4sf3QZW8a3xZ14IGsOAzoy', '67hb7towEyKvt5Z8Bx306c', '54QMjE4toDfiCryzYWCpXX', '4M84umUNRbZy1mJleyyRM9', '3C8RpaI3Go0yFF9whvKoED', '2CIMQHirSU0MQqyYHq0eOx', '4Y7tXHSEejGu1vQ9bwDdXW', '3hteYQFiMFbJY7wS0xDymP', '0Z5pcmXDCKTrFWLnDChC37', '0b9ukmbg0MO5eMlorcgOwz', '2mV8aJphiSHYJf43DxL7Gt', '37uLId6Z5ZXCx19vuruvv5', '6J7biCazzYhU3gM9j1wfid']\n",
      "['4ehtJnVumNf6xzSCDk8aLB', '4bL2B6hmLlMWnUEZnorEtG', '6lB8vOoI4DRrrVxXwuV19c', '02A3cEvlLLCbIMVDrK2GHV', '1IueXOQyABrMOprrzwQJWN', '7f5Zgnp2spUuuzKplmRkt7', '12rBrcOPP50qIan8ew4iTP', '4YXycRbyyAE0wozTk7QMEq', '7DMveApC7UnC2NPfPvlHSU', '1HBjj22wzbscIZ9sEb5dyf', '5iNrZmtVMtYev5M9yoWpEq', '6HQ6vf4AloXyVNdyJhrX1J', '69VkQLf4DH7GJ68BCDOPKL', '1L9i6qZYIGQedgM9QLSyzb', '3IpvVrP3VLhruTmnququq7', '721T2PETMLaAkijbYu05VD', '3GtCKJA4SkOxN65MWjm82R', '6i1GVNJCyyssRwXmnaeEFH', '5WdqBAQhGFCrZvBKXiPIu7', '5OReTeTBZ578sj07hDS0x7']\n",
      "['7sGj46FhEm7c19hArcGtlY', '7GaMopkesD4KK9dNbgyO5D', '6nHDuiu6PIpfWt6DswQHvL', '33Dtwad3snCG92mhmi17WM', '5jYPpt8OQR5IRc2w4RFEJj', '7LQLsKs1Qulq0BxYdhRnBU', '0gfiFtV86kFIByUOLejwin', '2TGFJ7H3NWGIxmrrxdOozF', '7iZ5x5fwRwROoX3iRWpVgN', '1SUu1Bi7ev9HbOzyVC77qD', '6VjbeCqoayiHYnefrisskv', '6gto7HVNhu4ARE3P3g8Y5Y', '3qd7OFf9RCmk6wIqVrZH1L', '4Yttlv9ndGjCDCVLqM7ACq', '6hMNiBKUQFKpnZ7GTvLVZf', '2JwyRtuXf2l6sTnSnGVIa1', '6x93n3GCg9u6k4091OCdGD', '2iReGc3ItZlbaaSWymMJve', '3drqpTL4sQOckmAfF9i1wg', '41LLNWUptvfbQ9Q7oCefmg']\n",
      "['2f5Ls2npCsxgXlcjQX0PtR', '21OFhKe36Lyy9G8ocKj9cg', '4NqQcN1VkuPOYwtBQCbTgq', '5dWX0H5ZTXacDIkW3L94Ba', '7AeNQueeNvOLDKYylJPaB0', '3NrXcUsQ2zK1oze56zlKUM', '0C7xnrfTBxk2DunFQqfClH', '3X0bU2WHDLK1NPKp5OELHa', '3jvmE11bWQZBiC5MQjacVB', '60U5Nsvpj5mJics5PcIkmd', '6fhXbgrtC1AffxqI32lPwz', '18wc7xvm8Ti7rqoLtf6jIU', '0tqfplArnNaPnE2AkNIglR', '4FJfk9uIlv4kDql3PD1b76', '6Ip6zfCzkx5ant6PCjBR3G', '7EErtRkIXKEnllrCa1a7xR', '4qXHGwlmlTtnpURZXJPmkx', '4ndPdP6aVSDCvhsjOHLGjb', '1bG6yoL6uMy2Ckfma1RRAL', '1YUyLxEVcC1mjIpFYu8vG5']\n",
      "['2DctCFD8X80VeY7WLC86PS', '18HVMQsV3tINaTyzT5UIjH', '3kf0gOpxWtkyeMNJVDQPtd', '6AMa1VFQ7qCi61tCRtVWXe', '3kortApcf0ntRWexUkJE4H', '6Uh8uJyN9g7oFjDK16nJgb', '5pnbUBPifNnlusY8kTBivi', '7dDYME7Y3GoEQotd8gUvQg', '2x8KDZdSONA3872CnhaAlX', '0P8YNJXX7QeQ8iZIUCXJgi', '3vDUJHQtqT3jFRZ2ECXDTi', '0tCtGc5vt29zFZp6KXzN50', '5TM9R6dNoJSMq23yZQD6Ee', '5oNgAs7j5XcBMzWv3HAnHG', '6tYVXU1sKSsk6SIdkfIWGu', '0bdJZl7TDeiymDYzMJnVh2', '5oFkj1qSlyBUmV5d6Edgtq', '1SAugjIcuwNPKS4urSB7A6', '14ejEUaU0wE2iAenbbv9b8', '0EeQBlQJFiAfJeVN2vT9s0']\n",
      "['32DuKytBMZn90iqyh2HEdc', '1nsdnHv49z0H5oPj3sJ3to', '6apXk5PGvEVbgXOTyk6fP1', '4guK7U9J36z76E1tWecJ0J', '3IhYHKVt0Q9vxCCwiCHahR', '5hPcCMWgf6Qu9vUQVySwcY', '5J1JcdYCPj44YKz6kVA5wx', '7gWumE1wMALHXANLSIt054', '21C9Dbg9CD3Dv8NaD7iW8e', '7Gkyjs2OYQpJdOvvmwIz2Z', '4imxqng3RrOBmykL2DhIJC', '6x3iaJYt5zLqKIfkrPQme9', '3KT0gxRAAb4WbAfOGMq4Lf', '4PrinKSrmILmo0kERG0Ogn', '3wFzTRAvCLEACzbRmgBEHx', '37hAfseJWi0G3Scife12Il', '41I5xI04kixwmonDBl0Sda', '4udfTw7V8jI4AHi7PEfJfj', '2wZt8FDVui01y98mChSK0t', '5RnUS48fC3nHEjbKeb8TPz']\n",
      "['6dJeKm76NjfXBNTpHmOhfO', '1dIdBZaaHRW2bDTkHNfWln', '5wugb0kaq0J6nyQ5Xgd17i', '4vRSocKbGh7PsQrYRDVMEF', '2S9W9aSAd7e5mp8WqWxN2h', '3BmGtnKgCSGYIUhmivXKWX', '4hqDqHtBlgxXpLXVYf7c8L', '2ddxtfC0oS8LoktXUHE7YL', '4yiQZ8tQPux8cPriYMWUFP', '7nU4hB040gTmHm45YYMvqc', '2Hjj68yyUPiC0HKEOigcEp', '6prmLEyn4LfHlD9NnXWlf7', '5rScKX1Sh1U67meeUyTGwk', '6S2OmqARrzebs0tKUEyXyp', '7o95ZoZt5ZYn31e9z1Hc0a', '3r17AfJCCUqC9Lf0OAc73G', '5xuNBZoM7z1Vv8IQ6uM0p6', '4m4SfDVbF5wxrwEjDKgi4k', '26dSoYclwsYLMAKD3tpOr4', '2gsggkzM5R49q6jpPvazou']\n",
      "['6ohwiHkIS0jvIz7GZ9EYd4', '6rQM1X5VuxOobQdf7xf4Ua', '4eOVYjpYbwpl2BDgsOtTxV', '4T5xzO9kkmlXKyCNlfQuzl', '0BxiODGfqHVjRWeGsuYzYM', '5UldYgP9fbgysIdfv1xqW9', '4nihhaXK1AUVTzkHVH9k3q', '0Y9K99X1XZqnD7IE1gO3gt', '1jz15KEhklBDMAdcn5s8pq', '16rJDrSGCHMXjPUuKwQcvp', '3Fx1vJHj530oWC2AxnZq5z', '0SCbttzoZTnLFebDYmAWCm', '0TxCBGcAGNdk7cd9ciZ0RI', '5zjfQChzjrOvA9bCDiH1m5', '1jYpJw3SwzAvRKqmGQalrm', '05tTO01wV9Y7U4U1B4xCBK', '3RPbAV902rnN942HnJO3Je', '1tMBaN8Tm6dj9i67jayVUW', '5ePU495MmXnc3Osszvs9rX', '1hK8cwJNxc9zRcqCMr4fpw']\n",
      "['7mDU6nMUJnOSY2Hkjz5oqM', '5gsyao2Qm21EKylbVIuRQ3', '687cZJR45JO7jhk1LHIbgq', '4HzKw8XcD0piJmDrrPRCYk', '45AMD9qU0ERQY5RvR7deHR', '4W49e48G0gg1pucAN6JiGH', '6TvjXbopXg71XRM9OZWqUc', '1uaS3ZokV40ZrpzSRhx4Ol', '6TrQLQR8tUluPbmdPy6jqY', '756t7CBmWLNYsshVtS6P44', '3UjPnt2nRmw10N58bBeNOg', '7r2oyrNc0YjSC7hZL87V0Y', '1fQWUHoSWhlrc9rmHi2xnE', '0hhGFNFQrdE34ZYR1CaBYN', '6If57j6e3TXXk0HiLcIZca', '4jwROPSUkTkohLCRiyjiZZ', '6G1yTgvoYsuVb2Ja8cVVJ2', '5FdZDr2bMbEcnsEKRgO3rn', '5YZ5AExR68U3ZblH6HcO6B', '7jun6jJ4LOAQfx5gSs6mJX']\n",
      "['1XTGADISSMRf8B4TcVGYUC', '3Z2jmNAP2UaGa8lPpi54wD', '6UL7BodGc5iVmQGlMwHR0g', '7a4td2FhkuH58dApiBvnrv', '78u1jLVBjPSXQVmHBV43yG', '20aXKBdnVocEWJQjDyddN9', '0o0rlxlC3ApLWsxFkUjMXc', '1QfjByidqUrsRhcT3fpWTU', '3VV18HyGcfLTqNjSjbROA1', '7Lij2ZLJJQOfGojVR3Wmqa', '72T7x96EAqN2UWvAgobYfv', '2Y06xyHPovQ8DWLyVIpSJK', '3QJzdZJYIAcoET1GcfpNGi', '389zc5Rwe0MPcE6mSF4AjC', '4ryoUS0W8qXokfMxrlJt6O', '3HQIkVkhoARQMb0XlvyUKL', '21J3YJTyq1biE3SvSNjzuf', '1VJspRsoC6c0bvqhnSiFCs', '3oX8XeAmdg9wximJieP8dG', '5Ayl2bJtN5mdCsxZoxs9n1']\n",
      "['6I9TgZbapKRXsunA05fiPl', '1bPxKZtCdjB1aj1csBJpdS', '3hcs9uc56yIGFCSy9leWe7', '4bbjivSh1oG4NOc7uYHfw5', '6yR6M6V6I7GhhYf6A7Wif9', '6f4XkbvYlXMH0QgVRzW0sM', '3A5tHz1SfngyOZM2gItYKu', '1SncSgYiDk2kCBBaXIYcwd', '6aLoJJxz7MV2iZ423S8tJC', '5gCRApTajqwbnHHPbr2Fpi', '5QdEbQJ3ylBnc3gsIASAT5', '6fxyWrfmjcbj5d12gXeiNV', '17lzZA2AlOHwCwFALHttmp', '5yPzzu25VzEk8qrGTLIrE1', '5dHt1vcEm9qb8fCyLcB3HL', '34Y0ldeyUv7jBvukWOGASO', '6TxY5T8v9RjF7Ry4XQvWT5', '1DvtabXAjfrMihPP6JQdHs', '5lHRUCqkQZCIWeX7xG4sYT', '6yTgJdVUFdBwtb4J8RJ7d7']\n",
      "['15qI5w4XJFLRMwOp2VrlD5', '2T2FygBhNFzuzjLefPpsdv', '6yZoNdsPrYLviaEOOzbZt8', '12EtLdLfJ41vUOoVzPZIUy', '3EBRANWwnViQuBrImN61Z1', '5xi3SZpllRPAkoPVbjB6nc', '5jLwURKdEPDvuYnac74s9c', '7rZNSLWMjTbwdLNskFbzFf', '48I6TLnfZjyLXTqBtQvhgZ', '4jbcqKzc4Wuy6MivHhzPrP', '40xbWSB4JPdOkRyuTDy1oP', '3fWTpVNnrGmdo0jMbsRsRf', '5LmYIx9kSWBJOWbP4xAxb1', '7LP4hiTAVkw3Rtc1hqtLi4', '1iAIMKbNptAohP5KbxuGR0', '4M6Z1wubeKtwPqbjJygTOc', '37mtx80nMDETlbsq2eFCzc', '17UkABEasVRlCcIFZ3wHb7', '0JEvQJxxsnNUo6LQygr4AL', '60vX3zLcdKRXvKLITVh5Df']\n",
      "['5qisLjDrKoHMI9zOK2hfzs', '5VkemxUDiz46ZHPdvh0LX0', '6Mm2g25BTeJ6BICPFWGkPg', '0YqeL4iGLLNiwRXZvew1TM', '62zLrboqOTPyozwi721CVy', '78Die3Gb8yaElTmGCa7m7N', '0gGcw3tA1fZoF23qa8KFb7', '52h6A1y99QgoEf5FzKEHs1', '2tcoLkA9Hexz70Kuc1NTUl', '54kCbQZaZWHnwwj9VP2hn4', '1FhFAnXsMLYJhRVBKvcdHU', '3YwqjMyrRfuixi2pbgTGCE', '66Ok6bgC570sHkw08N20pZ', '1kwzW1IszUiq4Gs9BFesvW', '3dH7pcBScIJQboDyMzUzez', '1q7T9rFQ2a2ukA1PU51fo3', '0oeiA5U9u1U45Gos5cywUU', '4Ue6MAZqz18NlaOQomRXLU', '0xEVr5H3VEj3g11u1q6ifW', '3DCWeG2J1fZeu0Oe6i5Q6m']\n",
      "['3mlNO7nX9wkXiB3kw7oExM', '5tVyieWwN9j09jXUovK2zN', '7qWB1MNQHOkDdSVGjBtvMX', '4zGH6gaO4NohcfCXZ31bQG', '39Waq6UmqYCBEuyv8M8kjl', '3IsULVZIf4iGp9ExB7yJVq', '2QSPrJfYeRXaltEEiriXN9', '2KToq66TzR2OM0PZJSh5bR', '4mh3iy6yf2oZYSiy2fdccM', '126TYnp3S2nOpqyaeF2YBh', '15k33gArN2NU6cEYyQC3xZ', '4TuGR5xkIry198WmY7hax2', '42TbHQxJ8d94CD93vAoDgl', '1rKFeRryEci6cxNkdvHzNr', '6SsTlCsuCYleNza6xGwynu', '3PvEhkL4pgu9glR6yOlYKK', '1TGdxJ3UvFq055SVjwx49v', '2QLxag7UehMTlparZcbQn9', '6IBNZlx6x6TbLUIJhXT4xV', '1IxP1g9VrPzJqXFCsuyHKe']\n",
      "['3jksrX4oBklxR78ft8gv3j', '12FHARd9fY0Tu0ila4Ua25', '7jFaoqWPhYLrKzjzlpXmUO', '3LIJJJkO7R5RasRwt7xIn5', '07VmOvmuBp9G0gb8BTrpn0', '0rG0AZBscc8S8q1ahIsasI', '3s2wTjWxK8NOX09dmsvVOh', '45a6gCQWq61lIUDmr1tKuO', '0u6b6Qa5VJEvr3SgzzeVOB', '1W3FSF1BLpY3hlVIgvenLz', '5oNgAs7j5XcBMzWv3HAnHG', '7zICaxnDB9ZprDSiFpvbbW', '6XwcepfAsPhrvwziGxhwju', '6B16XZWuJ9VERn7pXxCIda', '4jWGfUCFeTu5e0wprRhHXR', '3ZooCJzNMTLpmJaIRUEorI', '7352aRY2mqSxBZwzUb6LmA', '2OqENqJFXPORP4BUGnu2Qq', '3ciRvbBIVz9fBoPbtSYq4x', '4pr7J7wzgObkE3DD3Izi7q']\n",
      "['6AUl0ykLLpvTktob97x9hO', '757aE44tKEUQEqRuT6GnEB', '7rkW85dBwwrJtlHRDkJDAC', '3Fl1V19tmjt57oBdxXKAjJ', '5yPzzu25VzEk8qrGTLIrE1', '7wlFDEWiM5OoIAt8RSli8b', '1cNDP5yjU5vjeR8qMf4grg', '2hlmm7s2ICUX0LVIhVFlZQ', '0WOxhx4hikIsyF3CRPLC8W', '6icQOAFXDZKsumw3YXyusw', '7GuUYiGZOzQwq4L6gAfy1T', '3gGUMEwIX6XodWsYEvKSal', '4IprNlQiJZUUJhDl0fL2SL', '50co4Is1HCEo8bhOyUWKpn', '3tJoFztHeIJkJWMrx0td2f', '21WS9wngs9AqFckK7yYJPM', '1iJdyDcY98X3GMnUesl7tf', '1pPmIToKXyGdsCF6LmqLmI', '2ODbg2404zUzTi02qIPEjB', '6i392l38cR3uBPF0DbNs7S']\n",
      "['6QzzeKV0VcnT2vJMYDPuL4', '13bDjug9N0pyv3ZUINjkDV', '0tMFcqLXhtm1Gep20iuIR3', '5tHiL8SKSaZGMBUPIiSmX4', '7jDSMakHqXFe8kIaXfz8jD', '7MSwVATA5fRIxRA6Z0BmTe', '3NjbpG6MmFGVLXwbcPXH90', '0lFLP59V4TY3XgnrkFIwxK', '2YkKzgHa7xT6aW8QaSsQMd', '5ggr9FUq9cjogKBxQmI2ZO', '4sg4no0TXdsrM1s4SVUwNF', '7t0LZuOcoCE0At1c1r2ySY', '7oWrEQO1d3klp0Qrfh7a5h', '3pjq2pDV9RR6VY55wBjVnp', '4GJrFqexwHiTMZWjaPEkTy', '0cUMeX7DFLIvLy0q8uqp6q', '0JBdTCGs111JKKYfLqOEBa', '0jxy7TWRoSFqe4eucObq6L', '4WnfD0e5J91W7zyHBK6svA', '5vQXzZjy86ijQhMjMb1ke4']\n",
      "['021hNAnkFIbyFyL97br6NB', '7qvsLYsYP0MHD7jkdv6DAG', '3P33qFNGBVXl86yQYWspFj', '75FnCoo4FBxH5K1Rrx0k5A', '0hYxQe3AK5jBPCr5MumLHD', '3CygdxquGHurS7f9LjNLkv', '66lH4jAE7pqPlOlzUKbwA0', '0IdYRFTswLdsGwSnzOaGNF', '25NQNriVT2YbSW80ILRWJa', '3XlIhgydjvC4EniPFZT20j', '32WkQRZEVKSzVAAYqukAEA', '1v3tdpIdBSW14rHUfiEVOv', '02rd0anEWfMtF7iMku9uor', '3qbnxnvUqR14MJ9g8QwZJK', '3ltFy7g6KKQPPttsdOMlq3', '6ZV6lGY0prbqpTD0Md8i29', '2d3VHzlOEwXvmBdS4pzOPL', '34bhyY8jfKez7uKakMfy4y', '0HLOP0AdsaWe5Pt5TNueGC', '2qFe0FyUMK8XXoyOsfYJr2']\n",
      "['0cMsSWXCY2Wag16luxN6fL', '1cA379ILgR07m7XQVXyP6Q', '3U0pUvFUMv6gJiTFnXiueY', '0OQMxt6l70FM2YlLwYDiEn', '6pdcQa7by8IKuoVXvgknlI', '7yeFMUrYTY5cAZx0GKXnti', '2lPL3aVXBS4gVGymFOAYxF', '2pHk4wAmL7ofTAuvCIUWtv', '1mMUzAMrNqoTHgtxA0dZi6', '4kAzmAcboZ0F6bCCb4jj8I', '5mmEMfYChd6MImBagU7zCs', '5sXx89ZqVFOUKTl5g2uiST', '2OTfhbxhBO1u1bAuCy6ouu', '5AAzeysphag0NxJxLbbVla', '7CPznx8a1emLVLeCHGuJeN', '2ktpq7bp4m1quizyEmp4r1', '5iu7PzNW2d8xKOE8IsXgef', '4LXBc13z5EWsc5N32bLxfH', '6RwBaA9wZC0BPWZfmGeWMo', '62zLrboqOTPyozwi721CVy']\n",
      "['6ZozSO8b8pE2BDedOvBKzr', '7qXzy6c5RWT0XlVQcOBIDG', '2UFKXTZgKtOTHSqMSyAcLO', '224CDJhbm230iSo9ZomTWe', '21aa4pj9BvbFB2iT8kRpnq', '0bmxU94V20pNJ2Vie9kFYv', '0e4DCuFquCsusyEJEvGiPA', '43Zi7TKiuRqCwBng7Mv2c0', '1sU2EgcKnGSbpT1FQ95EgY', '0bm9qSmVJmT9CEukIhhZY5', '387fj6TuPJ3y2H8ViAm6r0', '3A9B6c1CrSPauiOblw7pWz', '2p0kGyCDXwJJ424GAPvRo9', '6VjbeCqoayiHYnefrisskv', '3xDVmZmDpaF1uuez2N7mKl', '6vjdSeVcSUJcCnQvQLdgks', '28mnxLvVPWdJGLe6oQzI3Q', '6quRLJ5SiWHgcVMoE9TEJj', '1LRpAVWq5z6VZMG3tTdZKU', '3HBmytNNI4oWYLdUnWw15Y']\n",
      "['53QzNeFpzAaXYnrDBbDrIp', '3koiLjNrgRTNbOwViDipeA', '6twIAGnYuIT1pncMAsXnEm', '3RwQ26hR2tJtA8F9p2n7jG', '1ThoqLcyIYvZn7iWbj8fsj', '5fbhwqYYh4YwUoEs582mq5', '6TKOZZDd5uV5KnyC5G4MUt', '7fIvjotigTGWqjIz6EP1i4', '2AV6XDIs32ofIJhkkDevjm', '5m8H6zSadhu1j9Yi04VLqD', '57bUPid8xztkieZfS7OlEV', '2yrbLiuBmc9j81lTX3XUuI', '0TF2NxkJZPQoX1H53rEFM1', '38h03gA85YYPeDPd9ER9rT', '3dkbV4qihUeMsqN4vBGg93', '0W498bDDNlJIrYMKXdpLHA', '6TqQLejnHXMGr7KcegxUND', '0N5PyKJzS3M1XNlaCL7bbE', '3VNITwohbvU5Wuy5PC6dsI', '1Pe5hlKMCTULjosqZ6KanP']\n",
      "['1QOmebWGB6FdFtW7Bo3F0W', '2FS22haX3FYbyOsUAkuYqZ', '1bZNv4q3OxYq7mmnLha7Tu', '3tAICgiSR5PfYY4B8qsoAU', '5VQCk9RiLwri99OgOT34kq', '25THA9HUHoxpCT4LBp7UsZ', '3jO7X5KupvwmWTHGtHgcgo', '5R3NywPPOyhLfdvutgg0me', '3MqjsWDLhq8SyY6N3PE8yW', '1ZVoRDO29AlDXiMkRLMZSK', '3XkJyJgJDxnjdQgH0zfT8K', '4TK1gDgb7QKoPFlzRrBRgR', '13JJKrUewC1CJYmIDXQNoH', '6CrQKZeuSKNYgrE7PeYqJ1', '21o0KNjooi1XjygW6V70NM', '5lCqW8vcd4TyTHzGIuKdH8', '2Rc3Tb5XUPF1YlnQwuPgjg', '4uqzzJg3ww5eH7IgGV7DMT', '7FnZWGw9lwOr7WzieTKEPR', '02Nbktg6lCJiazPM6YYTMz']\n",
      "['2OULCPo7k0vPKlEZimhaVc', '32UhRcgdXO6LdLhOpfIdxp', '1ONnyhQBTnkvg4QmI97hJg', '1PTl9q5EaEZejVGts7MBLN', '2eh8cEKZk4VeruUrGq748D', '5ydAcIK2KdpBIbL0yGFJle', '5DW7NxqQ2875JtjuV7KMn4', '2T94BUd6X8J1G5EfJj3hZr', '6IYoNcihnYWgtCHRTLxk7H', '43MnKJFpiqBVhI0jnOjZj4', '1afjj7vSBkpIjkiJdSV6bV', '5SZayIKDZvxXaJrxLfnIRN', '2CLtDhw1uJe59E3P56JN6T', '74YbW6s8CZdaYLxJU9HeS7', '5MyafTxCvKDZVVALZUByV3', '2z2TRvloJt4EfUNQp9rHAi', '5nTMNNNwQMoCYgzUXdUaB6', '6QS84S3i4gwdEKqWoTtDLd', '1BTmMBPzv3zEO3f6ilFoct', '1cRhxmFvL3Ef4vx4jSCy04']\n",
      "['6P7H3ai06vU1sGvdpBwDmE', '7crPfGd2k81ekOoSqQKWWz', '6QtGlUje9TIkLrgPZrESuk', '5lkiCO9UQ8B23dZ1o0UV4m', '3sFhA6G1N0gG1pszb6kk1m', '5dbuFbrHa1SJlQhQX9OUJ2', '39T6qqI0jDtSWWioX8eGJz', '2CvCyf1gEVhI0mX6aFXmVI', '6DCIj8jNaNpBz8e5oKFPtp', '77tT1kLj6mCWtFNqiOmP9H', '2UZMlIwnkgAEDBsw1Rejkn', '0GByy3DcfbQwDvXGCWmzv9', '0ECwFtbIWEVNwjlrfc6xoL', '44NX2ffIYHr6D4n7RaZF7A', '5gxynDEKwNDgxGJmJjZyte', '7FIoB5PHdrMZVC3q2HE5MS', '35U9lQaRWSQISxQAB94Meo', '7jefIIksOi1EazgRTfW2Pk', '3lPQ2Fk5JOwGWAF3ORFCqH', '485uL27bPomh29R4JmQehQ']\n",
      "['7w79n5kCkTEaewxNBynvhM', '1SykQGBiBwkQ1fcGpJ1BJt', '4VgvR7eu3k2T20mo6mXhXF', '6nVcjUJemqpJjc1WevwTvL', '0SnyKkoyBaB2fG8IJH4xmU', '059ysTnWcrm4yFwTr0NDjc', '2MLiASzGQHVMyORIApRGsp', '2wjmZuSHtRx96Qxb8HiP2o', '0D5U7oXEE4dut2DPyUDLca', '6Nm62oNQCdPxVoiQtFSksF', '2Eo4Yaukt9d6dnZrY5hQKi', '4DuhYdfd2jHMdaqYVYZp04', '6MxyNXnnmwQwdW2PD0gXYO', '6Iv9dXeKX45ff7qe0LDuFW', '1Qv4E1VgZOGnOYd99Kp5Bs', '5R6YR0pasdxlynyq0Abq7x', '3FXD2eQcHOiacO9qXENLUN', '6OO01j5rLKCyPg4i3FuzIT', '2osoVujXgV0PA8lhqDKYFw', '6U5QPaU2JpWfzInyd2g9zg']\n",
      "['0bOlhT8OcoC1lCpN69NcFP', '2TnJ7VOpGzjtKUn0ObpEYe', '1EVWYRr2obCRDoSoD6KSuM', '0BmLNz4nSLfoWYW1cYsElL', '7Ip2u3e5Nv6fFb5xyIHxEE', '4nmrm4zpgJ0RC6aZRSUEjF', '6wdvERzX4CUCOXu6hSS95x', '0JEvQJxxsnNUo6LQygr4AL', '1koE16z01QAb3mwcOo3Dc9', '085pc2PYOi8bGKj0PNjekA', '40xbWSB4JPdOkRyuTDy1oP', '698hF4vcwHwPy8ltmXermq', '4IFgewC2urR62Fwt7uAU03', '10rtYx82dLgxlD5PlWXsXA', '15jrieCvf3EklAScnD9kKl', '4J1SxSh3FGBAMAkuiY5sye', '52gTlzX6XwOavvrAz8TxEz', '4poL7YCSkG7kMnWjAdDU91', '2w9zwq3AktTeYYMuhMjju8', '1AAfkmCFRTSDg18GQ3itgl']\n",
      "['0tTS475qIqv3KXYZMXjsYy', '1CF7hrTuWgErEa6HBFJ8d3', '1DyU8JVejfDzqXo9x2mFfQ', '2nftqfbLohpDYzY8VUlvbm', '5lzqFxifzjxYHGJxuwQqtR', '3ebOqZZsLCDAkLS6QdI8cc', '4Umo1uO9VemTgnkjeUhx8c', '3hN3iJMbbBmqBSAMx5veDa', '76UCIJTB0jcJvBaL0CdIqx', '62C5P1caRIK12ndTkzNJjA', '2pjb5ffSoVTr5lRYQXlnPu', '5iot8OPcosJN9nCl7I5SdK', '4jFlmD92WULLlaRS8Cj6QS', '72A0Z8q8NiochyK9gUHpCR', '0dwEXtB6gceh7EO7tCsxhD', '3xGlLcG9CUrs5MvFkSLOS5', '0EqkKYDK9EkKY5N7zU3FPv', '25x6MD0spNNS7z93Sat30K', '3TAYxk5QBcHunmb0qkeTn2', '0gzwXezN4IUHAwLufA6YcX']\n",
      "['1cnFKnlGzy1ocJwNUospau', '7zoc6JsY8GWVcl2qFwiKay', '3YVhU9SxT88QL9LTBneCsT', '4MTNXrn0TAHwVwhYNeZjkF', '1HUhsxeHNGgqtmlQGvYmiA', '30GLhLBIdloqUCzV3nyVde', '0VOGPk9LCPMxzjkiX5JdZF', '1F0tFgHafshRmaZUXROUCg', '5BncOGM7QTwWuUZWxN8pbt', '50y1BeMwfz8MCB3YfH9qoj', '0JYmighF3zbuA81Di54CZN', '7sEq6DRIZq9lR8Vw21rzAj', '5iOlbqx0b8JJH9UHjpxJDx', '0L5sXPK5fHlRUMCMEtYCnl', '3cz1YSCXv6hjifHO6bYLLH', '2gb9HGD6kCyLgwt86L7lX0', '1X62wOavcIkoW1V4Ncl7KA', '29znzvIHLUmUVwvpTR7jiW', '79DDSTZSIzTEErzvsDSwfS', '2BBkT5XeK48RN0sYtPWxTj']\n",
      "['3rTxb36W3M1BCxx00iiwMU', '0eg7sMst2b9wLVyMgtRFpY', '6uMBnBtHeJmhc2tx1vDCae', '7yXfTS7XSd7lqCBxjhXeqo', '4eF1tYcUa9voNDX7xVTrZG', '16E27V4q0TPZXIriwMYTWV', '6RzdMi00bcAPKf4Y5isj9j', '4sh0yr2z7vdKqzahUgQ5Oi', '3UY1KK0iXeC0mpaK0ltFza', '3QWnDVzCzffmWoYCAGNajE', '2Ea7qJOrKOD6OYkXNEUwrs', '35WaRsrLTXoHhL5b9uI3Mq', '4O49GHbECmNppFvzK0WZXf', '13lFKnH7sS9T35uPQmxaOs', '2FqdskWqZqDdlSnAIo9BGA', '2aoUBwmHWln0JSEZbi9E70', '6s5z8omxqZ2k0gdGUSB0hp', '19C24gEiJyfC8b2IhuupfA', '2AwGvrbcvOSx5HDwc4OQE3', '2DKISYy7EvTDO7eJHBK6yF']\n",
      "['3sKeaby6GMSJWgYueZaSjE', '3HXLY1sNXIxHfulrjPiRf5', '3qDMrpZHtZEtVl5i1l7hP3', '0Vw76uk7P8yVtTClWyOhac', '6auWB5YAlcKaHyrbTH66nd', '5JMLG56F1X5mFmWNmS0iAp', '2Vvj76fff5uAw10W1sW54W', '4wO0kHiOwf8l9VMJJN9HmG', '6d4jrmreCmsenscuieJERc', '73eAAfRkS2Vi4hx68oTJJE', '5cIc3SBFuBLVxJz58W2tU9', '7KoTRIhjkIQy2L8RjWDpfF', '1e7K8jD3wRuQfnwDAOeGqe', '7blXVKBSxdFZsIqlhdViKc', '2Q9c6ETFOkDDTy53U7DIgr', '4jGPdu95icCKVF31CcFKbS', '7tKpXx21KVUOR6vvDs6xtg', '4nGp682WMiKS4X217kPw8C', '0jKQrxK2zHqxyOAyIMrUQt', '4qFxP3qN9GsnZDOkAE6x2m']\n",
      "['4q6hTJmeYXCwp0ivdtoSWA', '0oJM3iJjMdzgsd4z5VHQvw', '0T2sGLJKge2eaFmZJxX7sq', '7h2Y48bG543JDzEed383cx', '6Vh6UDWfu9PUSXSzAaB3CW', '7qlh1IM1XMeQXA9ukp59au', '5xi3SZpllRPAkoPVbjB6nc', '0Tob4H0FLtEONHU1MjpUEp', '2wpJOPmf1TIOzrB9mzHifd', '3whuHq0yGx60atvA2RCVRW', '0tJCNteqwm7LmRZ6KWr8GT', '4KGNjRvBeqS7wDrExXVN8a', '4jbcqKzc4Wuy6MivHhzPrP', '0gusqTJKxtU1UTmNRMHZcv', '7k9T7lZlHjRAM1bb0r9Rm3', '52Syw7gkGRePCAYvEY2X9D', '4IZLJdhHCqAvT4pjn8TLH5', '3Rsr4Z96O6U3lToOiV3zBh', '47izDDvtOxxz3FzHYuUptd', '3Z6IRCo7umuk8K2XQy0ZDj']\n",
      "['03eZ4y8baXNaR68hpkkDoq', '5RqcTk3xp9dW1BLsdQ0NE9', '5DcOHhTZVih46OXGXHeSGb', '050D4ZE1dXVfLSrQADtEu3', '5nbi8ytYDMpqTmmeufTwcG', '6Nspm53g0iGjgJxTcwhqOl', '10Gn7d0q1THIu8PM5ywP20', '6dKPNkSEQOrRRvZz63Y47F', '07nCYoPlXkWlhC2FHm1INS', '6nyKhzPeKV9pzpYN0malXP', '6nzeqmuQeZAVidJy3j5Dck', '50vNYJ9Cj5MfsFqGqI7JXQ', '3uR0BLXGAv5YciM8meWqmO', '0yjc2FN5zju7xyuJsTfGkh', '5CqmNRrmp3UP3NGccmlKHR', '0cA9DRt344kHIuWkY87dEk', '4qwwZk8Skdq22NuWCv9ZvM', '0GoJXmDr5UBG8ValCZe4om', '74itn5RZELPit7DjPJ1MxD', '']\n",
      "['4tujQJicOnuZRLiBFdp3Ou', '5Qi4Bb7a8C0a00NZcA77L0', '3zNM2tRfTX6LI1lN2PlrTt', '2B4ZHz4QDWJTXPFPgO5peE', '7B4hKK0S9QYnaoqa9OuwgX', '2XnnxQzxFZG8qEPjakokPM', '4EnEZVjo3w1cwcQYePccay', '6evKD5JWJON3qPBJtUEmtY', '7hJcb9fa4alzcOq3EaNPoG', '1Oa0bMld0A3u5OTYfMzp5h', '4pmNqFu71wEmFXSsYAiWK8', '3Mcii5XWf6E0lrY3Uky4cA', '77IURH5NC56Jn09QHi76is', '1YfEcTuGvBQ8xSD1f53UnK', '6O2zJ0tId7g07yzHtX0yap', '3USpNaxpX1iNqNnQWqg9ob', '0NbfKEOTQCcwd6o7wSDOHI', '4VmEWwd8y9MCLwexFMdpwt', '1HwM5zlC5qNWhJtM00yXzG', '6NyJIFHAePjHR1pFxwisqz']\n",
      "['44PA0rCQXikgOWbfY7Fq7m', '2OqENqJFXPORP4BUGnu2Qq', '0VKTLKamj4IH8OfQbUL0kq', '23LbwefIODbyGdRbAz3urj', '7jFaoqWPhYLrKzjzlpXmUO', '3ciRvbBIVz9fBoPbtSYq4x', '3v3clM1KQgVfpPjKJFPAmx', '5einkgXXrjhfYCyac1FANB', '4Js9eYwAf9rypNtV8pNSw9', '76RrKpsvOmSKG8CIjROdSG', '3jahzTuztFVegfKXChatkY', '12FHARd9fY0Tu0ila4Ua25', '1fQ46lgoUCz8FVXdTVNk0a', '0PGtMx1bsqoCHCy3MB3gXA', '6cwlhbT6PnscdmUYCLUJsa', '5A7d4sfe5ZY1RRf90zlUeo', '3RPYHNSwe3w0mtfJwKIN9P', '3Y365ZqTf6fJ4ZcRnLKPGt', '4AllEJE7mVkhhyUV6DjqPz', '1Zz5UxfKSSqc6hpa3xJPCw']\n",
      "['0bOlhT8OcoC1lCpN69NcFP', '2TnJ7VOpGzjtKUn0ObpEYe', '1EVWYRr2obCRDoSoD6KSuM', '0BmLNz4nSLfoWYW1cYsElL', '7Ip2u3e5Nv6fFb5xyIHxEE', '4nmrm4zpgJ0RC6aZRSUEjF', '6wdvERzX4CUCOXu6hSS95x', '0JEvQJxxsnNUo6LQygr4AL', '1koE16z01QAb3mwcOo3Dc9', '085pc2PYOi8bGKj0PNjekA', '40xbWSB4JPdOkRyuTDy1oP', '698hF4vcwHwPy8ltmXermq', '4IFgewC2urR62Fwt7uAU03', '10rtYx82dLgxlD5PlWXsXA', '15jrieCvf3EklAScnD9kKl', '4J1SxSh3FGBAMAkuiY5sye', '52gTlzX6XwOavvrAz8TxEz', '4poL7YCSkG7kMnWjAdDU91', '2w9zwq3AktTeYYMuhMjju8', '1AAfkmCFRTSDg18GQ3itgl']\n",
      "['4lshreIlL7SAG5e26AdxzM', '5nVk868ENULBaU3EXy4IWN', '6qgp1NNtpk1CbNlk5t2ET9', '1fmPXmOZLmC0NOAD0fUxUF', '7mujd1Yzam5djx6GfwFpRR', '14awyQ4f4LEiVGmVEo5Bhu', '5mnS9jJdKQQcRSqFu5YPVe', '5h3UnG3S2o9eZIUT4BNixl', '2NHt4egawSl0pKxbF04Lhf', '7ezVTH6pGRztW6zw9fFfYP', '4HWyvZOpORyPgLJ8uMSOFn', '4N3cNXg5phUzRzuJYYxQlV', '3NYdk3cQuAUvfkgzeYLYvY', '6iZZ05hmdoVCCt5GwFpRmX', '1j8qPYdy1BAYgKEEyk1aHx', '73Np75Wv2tju61Eo9Zw4IR', '6Id8rcDNyBXPcgKQVfQ8rX', '1GlMjIezcLwV3OFlX0uXOv', '4mmMtabvFCKA6HfmVmitNH', '7tHd518aPjJYUgyv9bidBz']\n"
     ]
    },
    {
     "ename": "KeyboardInterrupt",
     "evalue": "",
     "output_type": "error",
     "traceback": [
      "\u001b[1;31m---------------------------------------------------------------------------\u001b[0m",
      "\u001b[1;31mKeyboardInterrupt\u001b[0m                         Traceback (most recent call last)",
      "Cell \u001b[1;32mIn [49], line 30\u001b[0m\n\u001b[0;32m     28\u001b[0m     numberWanted \u001b[39m=\u001b[39m \u001b[39mstr\u001b[39m(row[\u001b[39m'\u001b[39m\u001b[39mNum\u001b[39m\u001b[39m'\u001b[39m])\n\u001b[0;32m     29\u001b[0m     spotifyResultsDf[numberWanted] \u001b[39m=\u001b[39m topTwentySpotArray\n\u001b[1;32m---> 30\u001b[0m     sleep(\u001b[39m0.5\u001b[39m)\n\u001b[0;32m     32\u001b[0m \u001b[39mprint\u001b[39m(spotifyResultsDf\u001b[39m.\u001b[39mhead())\n",
      "\u001b[1;31mKeyboardInterrupt\u001b[0m: "
     ]
    }
   ],
   "source": [
    "import requests\n",
    "from time import sleep\n",
    "\n",
    "apiKey = 'BQDIEuS5XlJmVarqYpvzin2HGiTvVUcF1uLC1885mwG_82Kxooli6hssj1zKUZ91n4b0lefu4kpO_c4xstGnBYp87jPbqfN2h5PIO51OgZS7TdTf3eyDAsq4jxgSKbtwAwWQwq0FL649WVwXR_UU9KZqfehbkhF7_tG4SfwrcIjdoum01nYoKZycDWYXJN8'\n",
    "BASE_URL = 'https://api.spotify.com/v1/'\n",
    "headers = {\n",
    "    'Authorization': 'Bearer {token}'.format(token=apiKey)\n",
    "}\n",
    "\n",
    "\n",
    "rand_df=pd.read_csv(\"random.csv\",index_col=None)\n",
    "# print(rand_df.head())\n",
    "spotifyResultsDf = pd.DataFrame()\n",
    "i=0\n",
    "for item,row in rand_df.iterrows():\n",
    "    id=str(df3['spotifyid'].iloc[row[\"Num\"]])\n",
    "    topTwentySpotArray = []\n",
    "    r = requests.get(BASE_URL + 'artists/' + id + '/related-artists', headers=headers)\n",
    "    rData = r.json()\n",
    "    for entry in rData['artists']:\n",
    "        spotId =  entry['id']\n",
    "        topTwentySpotArray.append(spotId)\n",
    "        \n",
    "    if(len(topTwentySpotArray) < 20):\n",
    "        while len(topTwentySpotArray) < 20:\n",
    "            topTwentySpotArray.append(\"\")\n",
    "\n",
    "    print(i)\n",
    "    i+=1\n",
    "    numberWanted = str(row['Num'])\n",
    "    spotifyResultsDf[numberWanted] = topTwentySpotArray\n",
    "    sleep(0.4)\n",
    "\n",
    "print(spotifyResultsDf.head())\n",
    "\n"
   ]
  }
 ],
 "metadata": {
  "kernelspec": {
   "display_name": "Python 3.11.0 64-bit",
   "language": "python",
   "name": "python3"
  },
  "language_info": {
   "codemirror_mode": {
    "name": "ipython",
    "version": 3
   },
   "file_extension": ".py",
   "mimetype": "text/x-python",
   "name": "python",
   "nbconvert_exporter": "python",
   "pygments_lexer": "ipython3",
   "version": "3.11.0"
  },
  "orig_nbformat": 4,
  "vscode": {
   "interpreter": {
    "hash": "c261aea317cc0286b3b3261fbba9abdec21eaa57589985bb7a274bf54d6cc0a7"
   }
  }
 },
 "nbformat": 4,
 "nbformat_minor": 2
}
