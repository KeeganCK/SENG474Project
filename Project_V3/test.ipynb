{
 "cells": [
  {
   "cell_type": "code",
   "execution_count": 2,
   "metadata": {},
   "outputs": [
    {
     "name": "stdout",
     "output_type": "stream",
     "text": [
      "(1416, 11) Index(['name', 'gender', 'age', 'type', 'country', 'city_2', 'spotifyid',\n",
      "       'genres', 'popularity', 'followers', 'soup'],\n",
      "      dtype='object')\n"
     ]
    }
   ],
   "source": [
    "import numpy as np\n",
    "import ast\n",
    "import pytz\n",
    "import math\n",
    "import itertools\n",
    "from sklearn.preprocessing import LabelBinarizer\n",
    "import pandas as pd\n",
    "import sklearn\n",
    "from sklearn.tree import DecisionTreeClassifier\n",
    "from sklearn.model_selection import train_test_split\n",
    "from sklearn.metrics import mean_absolute_error,accuracy_score\n",
    "from sklearn.model_selection import GridSearchCV\n",
    "from sklearn.feature_extraction.text import TfidfVectorizer,HashingVectorizer\n",
    "from sklearn.metrics.pairwise import linear_kernel\n",
    "from sklearn.feature_extraction.text import CountVectorizer\n",
    "from sklearn.metrics.pairwise import cosine_similarity, euclidean_distances\n",
    "import matplotlib.pyplot as plt\n",
    "from sklearn.manifold import TSNE\n",
    "from sklearn.feature_selection import r_regression \n",
    "np.random.seed(1337)\n",
    "df = pd.read_csv('top10K-spotify.csv',index_col=0)\n",
    "df[\"type\"].value_counts()\n",
    "df=df.drop(columns=[\"index\",\"city_1\",\"district_1\",\"district_2\",\"city_3\",\"district_3\" ])\n",
    "df = df[df['city_2'].notna()]\n",
    "df = df[df['country'].notna()]\n",
    "df.rename(columns = {'artist':'name'}, inplace = True)\n",
    "\n",
    "df2=pd.read_csv('data_w_spotify.csv',index_col=None)\n",
    "df2=df2.drop(columns=[\"isdone\",\"id\"])\n",
    "df2['genres'] = df2['genres'].fillna('')\n",
    "\n",
    "df3=df.merge(df2,on='name')\n",
    "\n",
    "df3['genres']= df3['genres'].str.strip('[]').str.replace(\"'\",\"\").str.split('\\s*,\\s*')\n",
    "\n",
    "def create_soup(x):\n",
    "    return ' '.join(x['genres']) + ' '+ x['city_2'] + ' ' + x['country']+' ' + x['gender']+ ' ' + x['type']\n",
    "\n",
    "df3['soup'] = df3.apply(create_soup, axis=1)\n",
    "print(df3.shape,df3.columns)\n",
    "\n",
    "dict_names = dict(zip(df3.name, df3.spotifyid))\n",
    "\n",
    "df = df.reset_index()\n",
    "indices = pd.Series(df3.index, index=df3['name']).drop_duplicates()\n",
    "\n",
    "\n",
    "\n",
    "def get_recommendations(name,sim,reverse):\n",
    "    # print(sim[0:20])\n",
    "    # print(name,sim)\n",
    "    indices = pd.Series(df3.index, index=df3['name']).drop_duplicates()\n",
    "    idx = indices[name]\n",
    "\n",
    "    # Get the pairwsie similarity scores of all artsits with that movie\n",
    "    sim_scores = list(enumerate(sim[idx]))\n",
    "    if not isinstance(sim_scores[0][1],np.ndarray):\n",
    "        # Sort the artists based on the similarity scores\n",
    "        sim_scores = sorted(sim_scores, key=lambda x: x[1], reverse=reverse)\n",
    "\n",
    "        # Get the scores of the 10 most similar artsits\n",
    "        sim_scores = sim_scores[1:21]\n",
    "\n",
    "        # Get the movie indices\n",
    "        indices = [i[0] for i in sim_scores]\n",
    "        scores = [round(i[1]*100, 2) for i in sim_scores]\n",
    "\n",
    "        # Return the top 20 most similar artsits\n",
    "        top_10=df3['name'].iloc[indices]\n",
    "        spot_top10=[]\n",
    "        spot_top10_names=[]\n",
    "        for item in top_10:\n",
    "            spot_top10_names.append(item)\n",
    "            spot_top10.append(dict_names[str(item)])\n",
    "\n",
    "        artist=dict_names[str(df3['name'].iloc[idx])]\n",
    "        \n",
    "        wantedDict = {\n",
    "            'mainId': artist,\n",
    "            'top10': spot_top10,\n",
    "            'top10Names': spot_top10_names,\n",
    "            'scores': scores\n",
    "        }\n",
    "        return wantedDict\n",
    "    return {\n",
    "        'top10': ['wrong format'],\n",
    "        'top10Names': ['wrong format'],\n",
    "    }\n",
    "\n",
    "\n"
   ]
  },
  {
   "cell_type": "code",
   "execution_count": 3,
   "metadata": {},
   "outputs": [],
   "source": [
    "def CVectorizer():\n",
    "    count = CountVectorizer()\n",
    "    count_matrix = count.fit_transform(df3['soup'])\n",
    "    return count_matrix\n",
    "\n",
    "def CosSim(x):\n",
    "    return (cosine_similarity(x,x),True)"
   ]
  },
  {
   "cell_type": "code",
   "execution_count": 4,
   "metadata": {},
   "outputs": [],
   "source": [
    "def TfidVectorizer():\n",
    "    count = TfidfVectorizer()\n",
    "    count_matrix = count.fit_transform(df3['soup'])\n",
    "    return count_matrix\n",
    "\n",
    "def EuDSim(x):\n",
    "    return (euclidean_distances(x,), False)"
   ]
  },
  {
   "cell_type": "code",
   "execution_count": 5,
   "metadata": {},
   "outputs": [
    {
     "name": "stdout",
     "output_type": "stream",
     "text": [
      "[0.0, 0.0, 0.0, 0.0, 0.0, 0.0, 0.0, 0.15, 0.0, 0.0, 0.1, 0.05, 0.05, 0.2, 0.0, 0.2, 0.0, 0.05, 0.05, 0.2, 0.0, 0.15, 0.15, 0.0, 0.0, 0.2, 0.25, 0.05, 0.1, 0.15, 0.15, 0.0, 0.0, 0.0, 0.1, 0.05, 0.05, 0.15, 0.0, 0.05, 0.0, 0.0, 0.0, 0.0, 0.0, 0.05, 0.0, 0.0, 0.05, 0.0, 0.0, 0.0, 0.0, 0.0, 0.0, 0.0, 0.0, 0.0, 0.25, 0.0, 0.05, 0.0, 0.05, 0.0, 0.0, 0.0, 0.15, 0.0, 0.05, 0.0, 0.25, 0.25, 0.05, 0.0, 0.05, 0.0, 0.0, 0.0, 0.0, 0.0, 0.0, 0.0, 0.0, 0.1, 0.0, 0.1, 0.0, 0.0, 0.0, 0.0, 0.0, 0.05, 0.0, 0.0, 0.0, 0.0, 0.0, 0.1, 0.1, 0.05, 0.05, 0.05, 0.0, 0.05, 0.1, 0.0, 0.25, 0.1, 0.1, 0.15, 0.25, 0.0, 0.0, 0.15, 0.05, 0.0, 0.0, 0.0, 0.0, 0.0, 0.15, 0.1, 0.05, 0.15, 0.05, 0.0, 0.05, 0.0, 0.0, 0.25, 0.0, 0.0, 0.2, 0.1, 0.0, 0.25, 0.0, 0.0, 0.2, 0.05, 0.05, 0.0, 0.0, 0.2, 0.2, 0.0, 0.0, 0.0, 0.05, 0.05, 0.05, 0.0, 0.15, 0.15, 0.05, 0.25, 0.25, 0.05, 0.1, 0.05, 0.2, 0.15, 0.05, 0.15, 0.15, 0.2, 0.0, 0.0, 0.15, 0.1, 0.0, 0.05, 0.05, 0.2, 0.15, 0.0, 0.0, 0.0, 0.0, 0.05, 0.15, 0.05, 0.05, 0.0, 0.0, 0.0, 0.2, 0.0, 0.0, 0.05, 0.15, 0.05, 0.05, 0.0, 0.1, 0.0, 0.0, 0.0, 0.05, 0.0, 0.15, 0.0, 0.0, 0.1, 0.0, 0.1, 0.0, 0.0, 0.0, 0.0, 0.0, 0.0, 0.05, 0.35, 0.0, 0.05, 0.1, 0.1, 0.0, 0.05, 0.0, 0.05, 0.15, 0.0, 0.3, 0.0, 0.0, 0.0, 0.1, 0.0, 0.0, 0.05, 0.0, 0.0, 0.0, 0.05, 0.0, 0.15, 0.25, 0.15, 0.15, 0.0, 0.0, 0.0, 0.05, 0.05, 0.0, 0.0, 0.0, 0.35, 0.05, 0.0, 0.05, 0.05, 0.15, 0.2, 0.0, 0.0, 0.05, 0.0, 0.05, 0.0, 0.1, 0.0, 0.0]\n"
     ]
    }
   ],
   "source": [
    "spot1 = pd.read_csv('spotify_results1.csv')\n",
    "spot2 = pd.read_csv('spotify_results2.csv')\n",
    "spot3 = pd.read_csv('spotify_results3.csv')\n",
    "spot1Name = pd.read_csv('spotify_results1_name.csv')\n",
    "spot2Name = pd.read_csv('spotify_results2_name.csv')\n",
    "spot3Name = pd.read_csv('spotify_results3_name.csv')\n",
    "spotDict = {}\n",
    "spotDictNames = {}\n",
    "\n",
    "i = 0\n",
    "for index in spot1:\n",
    "    if i != 0:\n",
    "        spotDict[str(index)] = list(spot1[index].to_numpy())\n",
    "        spotDictNames[str(index)] = list(spot1Name[index].to_numpy())\n",
    "    i+=1\n",
    "\n",
    "i = 0\n",
    "for index in spot2:\n",
    "    if i != 0:\n",
    "        spotDict[str(index)] = list(spot2[index].to_numpy())\n",
    "        spotDictNames[str(index)] = list(spot2Name[index].to_numpy())\n",
    "    i+=1\n",
    "\n",
    "i = 0\n",
    "for index in spot3:\n",
    "    if i != 0:\n",
    "        spotDict[str(index)] = list(spot3[index].to_numpy())\n",
    "        spotDictNames[str(index)] = list(spot3Name[index].to_numpy())\n",
    "    i+=1\n",
    "\n",
    "matrix=CVectorizer()\n",
    "sim,reverse = EuDSim(matrix)\n",
    "\n",
    "noCutEuDSim = []\n",
    "\n",
    "for ind in spotDict:\n",
    "    name = indices.index[int(ind)]\n",
    "    wanted_dict = get_recommendations(name,sim,reverse)\n",
    "    ids = wanted_dict['top10']\n",
    "    count = 0\n",
    "    for id in ids:\n",
    "        if id in spotDict[ind]:\n",
    "            count += 1\n",
    "    percentage = (float(count)/20.0)\n",
    "    noCutEuDSim.append(percentage)\n",
    "\n",
    "print(noCutEuDSim)"
   ]
  },
  {
   "cell_type": "code",
   "execution_count": 6,
   "metadata": {},
   "outputs": [
    {
     "name": "stdout",
     "output_type": "stream",
     "text": [
      "[0.0, 0.0, 0.0, 0.0, 0.0, 0.0, 0.0, 0.0909, 0.0909, 0.0, 0.0, 0.0, 0.0, 0.0, 0.0, 0.0, 0.0, 0.0, 0.0, 0.25, 0.25, 0.0, 0.0, 0.0, 0.0, 0.1667, 0.2, 0.0, 0.0, 0.25, 0.1667, 0.0, 0.0, 0.0, 0.2, 0.0, 0.0, 0.125, 0.125, 0.0, 0.0, 0.0, 0.0, 0.0, 0.0, 0.2, 0.0, 0.0, 0.0, 0.0, 0.0, 0.0, 0.0, 0.0, 0.0, 0.0, 0.0, 0.0, 0.2222, 0.0, 0.0, 0.0, 0.0, 0.0, 0.0, 0.0, 0.0, 0.0, 0.0, 0.0, 0.1667, 0.2857, 0.0, 0.0, 0.0, 0.0, 0.0, 0.0, 0.0, 0.0, 0.0, 0.0, 0.0, 0.0, 0.0, 0.0, 0.0, 0.0, 0.0, 0.0, 0.0, 0.0, 0.0, 0.0, 0.0, 0.0, 0.0, 0.0, 0.2, 0.0, 0.25, 0.0, 0.0, 0.0, 0.0, 0.0, 0.2857, 0.0, 0.0, 0.3333, 0.0, 0.0, 0.0, 0.0, 0.0, 0.0, 0.0, 0.0, 0.0, 0.0, 0.125, 0.0, 0.0, 0.0, 0.0, 0.0, 0.0, 0.0, 0.0, 0.1667, 0.0, 0.0, 0.0, 0.0, 0.0, 0.1429, 0.0, 0.0, 0.5, 0.0, 0.0, 0.0, 0.0, 0.2, 0.3333, 0.0, 0.0, 0.0, 0.0, 0.3333, 0.0, 0.0, 0.0, 0.0, 0.0, 0.3333, 0.3, 0.3333, 0.125, 0.25, 0.3333, 0.0, 0.1429, 0.25, 0.0, 0.3333, 0.3333, 0.0, 0.1667, 0.0, 0.0, 0.0, 0.0, 0.25, 0.0, 0.0, 0.0, 0.0, 0.0, 0.0, 0.0, 0.0, 0.0, 0.0, 0.0, 0.0, 0.1429, 0.1429, 0.0, 0.0, 0.2, 0.0, 0.0, 0.0, 0.0, 0.0, 0.0, 0.0, 0.25, 0.0, 0.2, 0.2, 0.2, 0.0, 0.0, 0.5, 0.0, 0.0, 0.0, 0.0, 0.0, 0.0, 0.0, 0.25, 0.25, 0.0, 0.0, 0.5, 0.5, 0.0, 0.0, 0.0, 0.1111, 0.1111, 0.3333, 0.3333, 0.0, 0.0, 0.0, 0.0, 0.0, 0.0, 0.0, 0.0, 0.0, 0.0, 0.0, 0.25, 0.2857, 0.0, 0.5, 0.0, 0.0, 0.0, 0.0, 0.0, 0.0, 0.0, 0.0, 0.4286, 0.0, 0.0, 0.0, 0.0, 0.0, 0.2857, 0.2857, 0.2857, 0.0, 0.0, 0.0, 0.0, 0.0, 0.0, 0.0]\n"
     ]
    }
   ],
   "source": [
    "matrix=CVectorizer()\n",
    "sim,reverse = EuDSim(matrix)\n",
    "\n",
    "cutEuDSimCv= []\n",
    "\n",
    "allowedNames = list(indices.index)\n",
    "\n",
    "for ind in spotDict:\n",
    "    name = indices.index[int(ind)]\n",
    "    nameList = spotDictNames[ind]\n",
    "    wanted_dict = get_recommendations(name,sim,reverse)\n",
    "    ids = wanted_dict['top10']\n",
    "    popped = 0\n",
    "    for nameCheck in nameList:\n",
    "        if nameCheck not in allowedNames:\n",
    "            i = nameList.index(nameCheck)\n",
    "            if len(ids) > 0:\n",
    "                ids.pop(i-popped)\n",
    "                popped+=1\n",
    "    count = 0\n",
    "    for id in ids:\n",
    "        if id in spotDict[ind]:\n",
    "            count += 1\n",
    "        percentage = 0\n",
    "        if len(ids) != 0: \n",
    "            percentage = round((count/len(ids)), 4)\n",
    "    cutEuDSimCv.append(percentage)\n",
    "\n",
    "print(cutEuDSimCv)"
   ]
  },
  {
   "cell_type": "code",
   "execution_count": 7,
   "metadata": {},
   "outputs": [
    {
     "name": "stdout",
     "output_type": "stream",
     "text": [
      "[0.05, 0.0, 0.0, 0.0, 0.0, 0.05, 0.0, 0.25, 0.0, 0.05, 0.15, 0.1, 0.05, 0.2, 0.0, 0.2, 0.0, 0.05, 0.05, 0.2, 0.0, 0.15, 0.05, 0.0, 0.0, 0.2, 0.25, 0.0, 0.2, 0.15, 0.2, 0.05, 0.0, 0.0, 0.1, 0.05, 0.05, 0.25, 0.0, 0.1, 0.1, 0.0, 0.0, 0.0, 0.0, 0.15, 0.2, 0.0, 0.05, 0.0, 0.0, 0.0, 0.0, 0.0, 0.0, 0.0, 0.05, 0.0, 0.15, 0.05, 0.1, 0.05, 0.05, 0.0, 0.05, 0.0, 0.2, 0.0, 0.05, 0.0, 0.2, 0.15, 0.05, 0.0, 0.0, 0.0, 0.0, 0.05, 0.0, 0.0, 0.0, 0.15, 0.0, 0.1, 0.05, 0.1, 0.15, 0.0, 0.0, 0.0, 0.05, 0.2, 0.05, 0.0, 0.0, 0.1, 0.0, 0.1, 0.2, 0.0, 0.0, 0.05, 0.0, 0.05, 0.15, 0.0, 0.2, 0.05, 0.1, 0.15, 0.15, 0.1, 0.0, 0.15, 0.05, 0.0, 0.0, 0.05, 0.0, 0.0, 0.0, 0.1, 0.05, 0.1, 0.05, 0.0, 0.05, 0.0, 0.0, 0.05, 0.05, 0.05, 0.2, 0.1, 0.0, 0.25, 0.05, 0.0, 0.2, 0.05, 0.1, 0.0, 0.0, 0.25, 0.25, 0.0, 0.0, 0.0, 0.0, 0.05, 0.05, 0.0, 0.15, 0.15, 0.05, 0.2, 0.45, 0.0, 0.0, 0.1, 0.25, 0.2, 0.0, 0.15, 0.2, 0.3, 0.0, 0.1, 0.1, 0.2, 0.0, 0.05, 0.05, 0.2, 0.15, 0.05, 0.1, 0.0, 0.0, 0.05, 0.15, 0.1, 0.1, 0.0, 0.05, 0.0, 0.1, 0.0, 0.05, 0.0, 0.15, 0.0, 0.25, 0.15, 0.1, 0.0, 0.0, 0.0, 0.05, 0.0, 0.2, 0.0, 0.0, 0.15, 0.0, 0.1, 0.0, 0.0, 0.0, 0.0, 0.05, 0.0, 0.0, 0.4, 0.0, 0.1, 0.15, 0.1, 0.0, 0.05, 0.2, 0.0, 0.35, 0.0, 0.3, 0.0, 0.0, 0.1, 0.05, 0.05, 0.0, 0.05, 0.0, 0.0, 0.0, 0.05, 0.0, 0.35, 0.25, 0.2, 0.15, 0.15, 0.0, 0.0, 0.1, 0.05, 0.0, 0.0, 0.0, 0.3, 0.05, 0.1, 0.1, 0.05, 0.15, 0.3, 0.0, 0.0, 0.05, 0.0, 0.0, 0.0, 0.05, 0.0, 0.05]\n"
     ]
    }
   ],
   "source": [
    "matrix=TfidVectorizer()\n",
    "sim,reverse = EuDSim(matrix)\n",
    "\n",
    "noCutEuDTfSim = []\n",
    "\n",
    "for ind in spotDict:\n",
    "    name = indices.index[int(ind)]\n",
    "    wanted_dict = get_recommendations(name,sim,reverse)\n",
    "    ids = wanted_dict['top10']\n",
    "    count = 0\n",
    "    for id in ids:\n",
    "        if id in spotDict[ind]:\n",
    "            count += 1\n",
    "    percentage = (count/20)\n",
    "    noCutEuDTfSim.append(percentage)\n",
    "\n",
    "print(noCutEuDTfSim)"
   ]
  },
  {
   "cell_type": "code",
   "execution_count": 18,
   "metadata": {},
   "outputs": [
    {
     "name": "stdout",
     "output_type": "stream",
     "text": [
      "0.0\n"
     ]
    },
    {
     "ename": "TypeError",
     "evalue": "object of type 'float' has no len()",
     "output_type": "error",
     "traceback": [
      "\u001b[1;31m---------------------------------------------------------------------------\u001b[0m",
      "\u001b[1;31mTypeError\u001b[0m                                 Traceback (most recent call last)",
      "Cell \u001b[1;32mIn [18], line 32\u001b[0m\n\u001b[0;32m     30\u001b[0m noZeroes \u001b[39m=\u001b[39m cutEuDSimTf[cutEuDSimTf \u001b[39m!=\u001b[39m \u001b[39m0\u001b[39m]\n\u001b[0;32m     31\u001b[0m \u001b[39mprint\u001b[39m(noZeroes)\n\u001b[1;32m---> 32\u001b[0m \u001b[39mprint\u001b[39m(np\u001b[39m.\u001b[39msum(noZeroes)\u001b[39m/\u001b[39m\u001b[39mlen\u001b[39;49m(noZeroes))\n",
      "\u001b[1;31mTypeError\u001b[0m: object of type 'float' has no len()"
     ]
    }
   ],
   "source": [
    "matrix=TfidVectorizer()\n",
    "sim,reverse = EuDSim(matrix)\n",
    "\n",
    "cutEuDSimTf= []\n",
    "\n",
    "allowedNames = list(indices.index)\n",
    "\n",
    "for ind in spotDict:\n",
    "    name = indices.index[int(ind)]\n",
    "    nameList = spotDictNames[ind]\n",
    "    wanted_dict = get_recommendations(name,sim,reverse)\n",
    "    ids = wanted_dict['top10']\n",
    "    popped = 0\n",
    "    for nameCheck in nameList:\n",
    "        if nameCheck not in allowedNames:\n",
    "            i = nameList.index(nameCheck)\n",
    "            if len(ids) > 0:\n",
    "                ids.pop(i-popped)\n",
    "                popped+=1\n",
    "    count = 0\n",
    "    for id in ids:\n",
    "        if id in spotDict[ind]:\n",
    "            count += 1\n",
    "        percentage = 0\n",
    "        if len(ids) != 0: \n",
    "            percentage = round((count/len(ids)), 4)\n",
    "    cutEuDSimTf.append(percentage)\n",
    "\n",
    "\n",
    "noZeroes = []\n",
    "for score in cutEuDSimTf:\n",
    "    if score > 0:\n",
    "        noZeroes.append(score)\n",
    "print(np.sum(noZeroes)/len(noZeroes))"
   ]
  },
  {
   "cell_type": "code",
   "execution_count": 9,
   "metadata": {},
   "outputs": [
    {
     "name": "stdout",
     "output_type": "stream",
     "text": [
      "[0.0, 0.0, 0.0, 0.0, 0.0, 0.0, 0.0, 0.0, 0.0, 0.0, 0.0, 0.0, 0.0, 0.0, 0.0, 0.0, 0.0, 0.0, 0.0, 0.0, 0.0, 0.0, 0.0, 0.0, 0.0, 0.0, 0.0, 0.0, 0.0, 0.0, 0.0, 0.0, 0.0, 0.0, 0.0, 0.0, 0.0, 0.0, 0.0, 0.0, 0.0, 0.0, 0.0, 0.0, 0.0, 0.0, 0.0, 0.0, 0.0, 0.0, 0.0, 0.0, 0.0, 0.0, 0.0, 0.0, 0.0, 0.0, 0.0, 0.0, 0.0, 0.0, 0.0, 0.0, 0.0, 0.0, 0.0, 0.0, 0.0, 0.0, 0.0, 0.0, 0.0, 0.0, 0.05, 0.0, 0.0, 0.0, 0.0, 0.0, 0.0, 0.0, 0.0, 0.0, 0.0, 0.0, 0.0, 0.0, 0.0, 0.0, 0.0, 0.0, 0.0, 0.0, 0.0, 0.0, 0.0, 0.0, 0.0, 0.0, 0.0, 0.0, 0.0, 0.0, 0.0, 0.0, 0.0, 0.0, 0.0, 0.0, 0.0, 0.0, 0.0, 0.0, 0.0, 0.0, 0.0, 0.0, 0.0, 0.0, 0.0, 0.0, 0.0, 0.0, 0.0, 0.0, 0.0, 0.0, 0.0, 0.0, 0.0, 0.0, 0.0, 0.0, 0.0, 0.0, 0.0, 0.0, 0.0, 0.0, 0.0, 0.0, 0.0, 0.0, 0.0, 0.0, 0.0, 0.0, 0.0, 0.0, 0.0, 0.0, 0.0, 0.0, 0.0, 0.0, 0.0, 0.0, 0.0, 0.0, 0.0, 0.0, 0.0, 0.0, 0.0, 0.0, 0.0, 0.0, 0.0, 0.0, 0.0, 0.0, 0.0, 0.0, 0.0, 0.0, 0.0, 0.0, 0.0, 0.0, 0.0, 0.0, 0.0, 0.0, 0.0, 0.0, 0.0, 0.0, 0.0, 0.0, 0.0, 0.0, 0.0, 0.0, 0.0, 0.0, 0.0, 0.0, 0.0, 0.0, 0.0, 0.0, 0.0, 0.0, 0.0, 0.0, 0.0, 0.0, 0.0, 0.0, 0.0, 0.0, 0.0, 0.0, 0.0, 0.0, 0.0, 0.0, 0.0, 0.0, 0.0, 0.0, 0.0, 0.0, 0.0, 0.0, 0.0, 0.0, 0.0, 0.0, 0.0, 0.0, 0.0, 0.0, 0.0, 0.0, 0.0, 0.0, 0.0, 0.0, 0.0, 0.0, 0.0, 0.0, 0.0, 0.0, 0.0, 0.0, 0.0, 0.0, 0.0, 0.0, 0.0, 0.0, 0.0, 0.0, 0.0, 0.0, 0.0, 0.0, 0.0, 0.0, 0.0, 0.0, 0.0]\n"
     ]
    }
   ],
   "source": [
    "matrix=CVectorizer()\n",
    "im,reverse = CosSim(matrix)\n",
    "\n",
    "noCutCosSimCV= []\n",
    "\n",
    "for ind in spotDict:\n",
    "    name = indices.index[int(ind)]\n",
    "    wanted_dict = get_recommendations(name,sim,reverse)\n",
    "    ids = wanted_dict['top10']\n",
    "    count = 0\n",
    "    for id in ids:\n",
    "        if id in spotDict[ind]:\n",
    "            count += 1\n",
    "    percentage = (count/20)\n",
    "    noCutCosSimCV.append(percentage)\n",
    "\n",
    "print(noCutCosSimCV)"
   ]
  },
  {
   "cell_type": "code",
   "execution_count": 10,
   "metadata": {},
   "outputs": [
    {
     "name": "stdout",
     "output_type": "stream",
     "text": [
      "[0.0, 0.0, 0.0, 0.0, 0.0, 0.0, 0.0, 0.0, 0.0, 0.0, 0.0, 0.0, 0.0, 0.0, 0.0, 0.0, 0.0, 0.0, 0.0, 0.0, 0.0, 0.0, 0.0, 0.0, 0.0, 0.0, 0.0, 0.0, 0.0, 0.0, 0.0, 0.0, 0.0, 0.0, 0.0, 0.0, 0.0, 0.0, 0.0, 0.0, 0.0, 0.0, 0.0, 0.0, 0.0, 0.0, 0.0, 0.0, 0.0, 0.0, 0.0, 0.0, 0.0, 0.0, 0.0, 0.0, 0.0, 0.0, 0.0, 0.0, 0.0, 0.0, 0.0, 0.0, 0.0, 0.0, 0.0, 0.0, 0.0, 0.0, 0.0, 0.0, 0.0, 0.0, 0.0, 0.0, 0.0, 0.0, 0.0, 0.0, 0.0, 0.0, 0.0, 0.0, 0.0, 0.0, 0.0, 0.0, 0.0, 0.0, 0.0, 0.0, 0.0, 0.0, 0.0, 0.0, 0.0, 0.0, 0.0, 0.0, 0.0, 0.0, 0.0, 0.0, 0.0, 0.0, 0.0, 0.0, 0.0, 0.0, 0.0, 0.0, 0.0, 0.0, 0.0, 0.0, 0.0, 0.0, 0.0, 0.0, 0.0, 0.0, 0.0, 0.0, 0.0, 0.0, 0.0, 0.0, 0.0, 0.0, 0.0, 0.0, 0.0, 0.0, 0.0, 0.0, 0.0, 0.0, 0.0, 0.0, 0.0, 0.0, 0.0, 0.0, 0.0, 0.0, 0.0, 0.0, 0.0, 0.0, 0.0, 0.0, 0.0, 0.0, 0.0, 0.0, 0.0, 0.0, 0.0, 0.0, 0.0, 0.0, 0.0, 0.0, 0.0, 0.0, 0.0, 0.0, 0.0, 0.0, 0.0, 0.0, 0.0, 0.0, 0.0, 0.0, 0.0, 0.0, 0.0, 0.0, 0.0, 0.0, 0.0, 0.0, 0.0, 0.0, 0.0, 0.0, 0.0, 0.0, 0.0, 0.0, 0.0, 0.0, 0.0, 0.0, 0.0, 0.0, 0.0, 0.0, 0.0, 0.0, 0.0, 0.0, 0.0, 0.0, 0.0, 0.0, 0.0, 0.0, 0.0, 0.0, 0.0, 0.0, 0.0, 0.0, 0.0, 0.0, 0.0, 0.0, 0.0, 0.0, 0.0, 0.0, 0.0, 0.0, 0.0, 0.0, 0.0, 0.0, 0.0, 0.0, 0.0, 0.0, 0.0, 0.0, 0.0, 0.0, 0.0, 0.0, 0.0, 0.0, 0.0, 0.0, 0.0, 0.0, 0.0, 0.0, 0.0, 0.0, 0.0, 0.0, 0.0, 0.0, 0.0, 0.0, 0.0, 0.0, 0.0, 0.0, 0.0, 0.0, 0.0, 0.0, 0.0]\n"
     ]
    }
   ],
   "source": [
    "matrix=CVectorizer()\n",
    "im,reverse = CosSim(matrix)\n",
    "\n",
    "cutCosSimCv= []\n",
    "\n",
    "allowedNames = list(indices.index)\n",
    "\n",
    "for ind in spotDict:\n",
    "    name = indices.index[int(ind)]\n",
    "    nameList = spotDictNames[ind]\n",
    "    wanted_dict = get_recommendations(name,sim,reverse)\n",
    "    ids = wanted_dict['top10']\n",
    "    popped = 0\n",
    "    for nameCheck in nameList:\n",
    "        if nameCheck not in allowedNames:\n",
    "            i = nameList.index(nameCheck)\n",
    "            if len(ids) > 0:\n",
    "                ids.pop(i-popped)\n",
    "                popped+=1\n",
    "    count = 0\n",
    "    for id in ids:\n",
    "        if id in spotDict[ind]:\n",
    "            count += 1\n",
    "        percentage = 0\n",
    "        if len(ids) != 0: \n",
    "            percentage = round((count/len(ids)), 4)\n",
    "    cutCosSimCv.append(percentage)\n",
    "\n",
    "print(cutCosSimCv)"
   ]
  },
  {
   "cell_type": "code",
   "execution_count": 11,
   "metadata": {},
   "outputs": [
    {
     "name": "stdout",
     "output_type": "stream",
     "text": [
      "[0.0, 0.0, 0.0, 0.0, 0.0, 0.0, 0.0, 0.0, 0.0, 0.0, 0.0, 0.0, 0.0, 0.0, 0.0, 0.0, 0.0, 0.0, 0.0, 0.0, 0.0, 0.0, 0.0, 0.0, 0.0, 0.0, 0.0, 0.0, 0.0, 0.0, 0.0, 0.0, 0.0, 0.0, 0.0, 0.0, 0.0, 0.0, 0.0, 0.0, 0.0, 0.0, 0.0, 0.0, 0.0, 0.0, 0.0, 0.0, 0.0, 0.0, 0.0, 0.0, 0.0, 0.0, 0.0, 0.0, 0.0, 0.0, 0.0, 0.0, 0.0, 0.0, 0.0, 0.0, 0.0, 0.0, 0.0, 0.0, 0.0, 0.0, 0.0, 0.0, 0.0, 0.0, 0.05, 0.0, 0.0, 0.0, 0.0, 0.0, 0.0, 0.0, 0.0, 0.0, 0.0, 0.0, 0.0, 0.0, 0.0, 0.0, 0.0, 0.0, 0.0, 0.0, 0.0, 0.0, 0.0, 0.0, 0.0, 0.0, 0.0, 0.0, 0.0, 0.0, 0.0, 0.0, 0.0, 0.0, 0.0, 0.0, 0.0, 0.0, 0.0, 0.0, 0.0, 0.0, 0.0, 0.0, 0.0, 0.0, 0.0, 0.0, 0.0, 0.0, 0.0, 0.0, 0.0, 0.0, 0.0, 0.0, 0.0, 0.0, 0.0, 0.0, 0.0, 0.0, 0.0, 0.0, 0.0, 0.0, 0.0, 0.0, 0.0, 0.0, 0.0, 0.0, 0.0, 0.0, 0.0, 0.0, 0.0, 0.0, 0.0, 0.0, 0.0, 0.0, 0.0, 0.0, 0.0, 0.0, 0.0, 0.0, 0.0, 0.0, 0.0, 0.0, 0.0, 0.0, 0.0, 0.0, 0.0, 0.0, 0.0, 0.0, 0.0, 0.0, 0.0, 0.0, 0.0, 0.0, 0.0, 0.0, 0.0, 0.0, 0.0, 0.0, 0.0, 0.0, 0.0, 0.0, 0.0, 0.0, 0.0, 0.0, 0.0, 0.0, 0.0, 0.0, 0.0, 0.0, 0.0, 0.0, 0.0, 0.0, 0.0, 0.0, 0.0, 0.0, 0.0, 0.0, 0.0, 0.0, 0.0, 0.0, 0.0, 0.0, 0.0, 0.0, 0.0, 0.0, 0.0, 0.0, 0.0, 0.0, 0.0, 0.0, 0.0, 0.0, 0.0, 0.0, 0.0, 0.0, 0.0, 0.0, 0.0, 0.0, 0.0, 0.0, 0.0, 0.0, 0.0, 0.0, 0.0, 0.0, 0.0, 0.0, 0.0, 0.0, 0.0, 0.0, 0.0, 0.0, 0.0, 0.0, 0.0, 0.0, 0.0, 0.0, 0.0, 0.0, 0.0, 0.0, 0.0, 0.0, 0.0]\n"
     ]
    }
   ],
   "source": [
    "matrix=TfidVectorizer()\n",
    "im,reverse = CosSim(matrix)\n",
    "\n",
    "noCutCosSimTf= []\n",
    "\n",
    "for ind in spotDict:\n",
    "    name = indices.index[int(ind)]\n",
    "    wanted_dict = get_recommendations(name,sim,reverse)\n",
    "    ids = wanted_dict['top10']\n",
    "    count = 0\n",
    "    for id in ids:\n",
    "        if id in spotDict[ind]:\n",
    "            count += 1\n",
    "    percentage = (count/20)\n",
    "    noCutCosSimTf.append(percentage)\n",
    "\n",
    "print(noCutCosSimTf)"
   ]
  },
  {
   "cell_type": "code",
   "execution_count": 12,
   "metadata": {},
   "outputs": [
    {
     "name": "stdout",
     "output_type": "stream",
     "text": [
      "[0.0, 0.0, 0.0, 0.0, 0.0, 0.0, 0.0, 0.0, 0.0, 0.0, 0.0, 0.0, 0.0, 0.0, 0.0, 0.0, 0.0, 0.0, 0.0, 0.0, 0.0, 0.0, 0.0, 0.0, 0.0, 0.0, 0.0, 0.0, 0.0, 0.0, 0.0, 0.0, 0.0, 0.0, 0.0, 0.0, 0.0, 0.0, 0.0, 0.0, 0.0, 0.0, 0.0, 0.0, 0.0, 0.0, 0.0, 0.0, 0.0, 0.0, 0.0, 0.0, 0.0, 0.0, 0.0, 0.0, 0.0, 0.0, 0.0, 0.0, 0.0, 0.0, 0.0, 0.0, 0.0, 0.0, 0.0, 0.0, 0.0, 0.0, 0.0, 0.0, 0.0, 0.0, 0.0, 0.0, 0.0, 0.0, 0.0, 0.0, 0.0, 0.0, 0.0, 0.0, 0.0, 0.0, 0.0, 0.0, 0.0, 0.0, 0.0, 0.0, 0.0, 0.0, 0.0, 0.0, 0.0, 0.0, 0.0, 0.0, 0.0, 0.0, 0.0, 0.0, 0.0, 0.0, 0.0, 0.0, 0.0, 0.0, 0.0, 0.0, 0.0, 0.0, 0.0, 0.0, 0.0, 0.0, 0.0, 0.0, 0.0, 0.0, 0.0, 0.0, 0.0, 0.0, 0.0, 0.0, 0.0, 0.0, 0.0, 0.0, 0.0, 0.0, 0.0, 0.0, 0.0, 0.0, 0.0, 0.0, 0.0, 0.0, 0.0, 0.0, 0.0, 0.0, 0.0, 0.0, 0.0, 0.0, 0.0, 0.0, 0.0, 0.0, 0.0, 0.0, 0.0, 0.0, 0.0, 0.0, 0.0, 0.0, 0.0, 0.0, 0.0, 0.0, 0.0, 0.0, 0.0, 0.0, 0.0, 0.0, 0.0, 0.0, 0.0, 0.0, 0.0, 0.0, 0.0, 0.0, 0.0, 0.0, 0.0, 0.0, 0.0, 0.0, 0.0, 0.0, 0.0, 0.0, 0.0, 0.0, 0.0, 0.0, 0.0, 0.0, 0.0, 0.0, 0.0, 0.0, 0.0, 0.0, 0.0, 0.0, 0.0, 0.0, 0.0, 0.0, 0.0, 0.0, 0.0, 0.0, 0.0, 0.0, 0.0, 0.0, 0.0, 0.0, 0.0, 0.0, 0.0, 0.0, 0.0, 0.0, 0.0, 0.0, 0.0, 0.0, 0.0, 0.0, 0.0, 0.0, 0.0, 0.0, 0.0, 0.0, 0.0, 0.0, 0.0, 0.0, 0.0, 0.0, 0.0, 0.0, 0.0, 0.0, 0.0, 0.0, 0.0, 0.0, 0.0, 0.0, 0.0, 0.0, 0.0, 0.0, 0.0, 0.0, 0.0, 0.0, 0.0, 0.0, 0.0, 0.0, 0.0]\n"
     ]
    }
   ],
   "source": [
    "matrix=TfidVectorizer()\n",
    "im,reverse = CosSim(matrix)\n",
    "\n",
    "cutCosSimTf= []\n",
    "\n",
    "allowedNames = list(indices.index)\n",
    "\n",
    "for ind in spotDict:\n",
    "    name = indices.index[int(ind)]\n",
    "    nameList = spotDictNames[ind]\n",
    "    wanted_dict = get_recommendations(name,sim,reverse)\n",
    "    ids = wanted_dict['top10']\n",
    "    popped = 0\n",
    "    for nameCheck in nameList:\n",
    "        if nameCheck not in allowedNames:\n",
    "            i = nameList.index(nameCheck)\n",
    "            if len(ids) > 0:\n",
    "                ids.pop(i-popped)\n",
    "                popped+=1\n",
    "    count = 0\n",
    "    for id in ids:\n",
    "        if id in spotDict[ind]:\n",
    "            count += 1\n",
    "        percentage = 0\n",
    "        if len(ids) != 0: \n",
    "            percentage = round((count/len(ids)), 4)\n",
    "    cutCosSimTf.append(percentage)\n",
    "\n",
    "print(cutCosSimTf)"
   ]
  },
  {
   "cell_type": "code",
   "execution_count": 13,
   "metadata": {},
   "outputs": [],
   "source": [
    "def Random_tester():\n",
    "    rand= np.random.randint(0,len(df3),299)\n",
    "    return rand\n",
    "\n",
    "sample=Random_tester()\n",
    "df_sample=pd.DataFrame(sample)\n",
    "df_sample = df_sample.drop_duplicates()\n",
    "# df_sample.to_csv(\"random.csv\",index=False)"
   ]
  },
  {
   "cell_type": "code",
   "execution_count": 14,
   "metadata": {},
   "outputs": [
    {
     "ename": "KeyError",
     "evalue": "'artists'",
     "output_type": "error",
     "traceback": [
      "\u001b[1;31m---------------------------------------------------------------------------\u001b[0m",
      "\u001b[1;31mKeyError\u001b[0m                                  Traceback (most recent call last)",
      "Cell \u001b[1;32mIn [14], line 26\u001b[0m\n\u001b[0;32m     24\u001b[0m r \u001b[39m=\u001b[39m requests\u001b[39m.\u001b[39mget(BASE_URL \u001b[39m+\u001b[39m \u001b[39m'\u001b[39m\u001b[39martists/\u001b[39m\u001b[39m'\u001b[39m \u001b[39m+\u001b[39m \u001b[39mid\u001b[39m \u001b[39m+\u001b[39m \u001b[39m'\u001b[39m\u001b[39m/related-artists\u001b[39m\u001b[39m'\u001b[39m, headers\u001b[39m=\u001b[39mheaders)\n\u001b[0;32m     25\u001b[0m rData \u001b[39m=\u001b[39m r\u001b[39m.\u001b[39mjson()\n\u001b[1;32m---> 26\u001b[0m \u001b[39mfor\u001b[39;00m entry \u001b[39min\u001b[39;00m rData[\u001b[39m'\u001b[39;49m\u001b[39martists\u001b[39;49m\u001b[39m'\u001b[39;49m]:\n\u001b[0;32m     27\u001b[0m     spotId \u001b[39m=\u001b[39m  entry[\u001b[39m'\u001b[39m\u001b[39mid\u001b[39m\u001b[39m'\u001b[39m]\n\u001b[0;32m     28\u001b[0m     spotName \u001b[39m=\u001b[39m  entry[\u001b[39m'\u001b[39m\u001b[39mname\u001b[39m\u001b[39m'\u001b[39m]\n",
      "\u001b[1;31mKeyError\u001b[0m: 'artists'"
     ]
    }
   ],
   "source": [
    "import requests\n",
    "from time import sleep\n",
    "\n",
    "apiKey = 'BQA9NeCisLRR1GoN4NC-CnUxZvjWuFewAgS8ZRFFL35UkarFa-WMFyIqqJIAaIejWDI_Ok_LRdv_qjqw2pF4CqAsTj9fgsAAL3r7er7AGxtGnWpFZ16876PL9SolaTqRru7-gD17Ge9GOzLqm-aTXn7iBalFhabtCJemMKBf99gnD94HCsQgO7QhWiE2L7g'\n",
    "BASE_URL = 'https://api.spotify.com/v1/'\n",
    "headers = {\n",
    "    'Authorization': 'Bearer {token}'.format(token=apiKey)\n",
    "}\n",
    "\n",
    "\n",
    "rand_df=pd.read_csv(\"random.csv\",index_col=None)\n",
    "# print(rand_df.head())\n",
    "spotifyResultsDf1 = pd.DataFrame()\n",
    "spotifyResultsDf2 = pd.DataFrame()\n",
    "spotifyResultsDf3 = pd.DataFrame()\n",
    "spotifyResultsDf1Name = pd.DataFrame()\n",
    "spotifyResultsDf2Name = pd.DataFrame()\n",
    "spotifyResultsDf3Name = pd.DataFrame()\n",
    "i=0\n",
    "for item,row in rand_df.iterrows():\n",
    "    id=str(df3['spotifyid'].iloc[row[\"Num\"]])\n",
    "    topTwentySpotArray = []\n",
    "    topTwentySpotArrayName = []\n",
    "    r = requests.get(BASE_URL + 'artists/' + id + '/related-artists', headers=headers)\n",
    "    rData = r.json()\n",
    "    for entry in rData['artists']:\n",
    "        spotId =  entry['id']\n",
    "        spotName =  entry['name']\n",
    "        topTwentySpotArray.append(spotId)\n",
    "        topTwentySpotArrayName.append(spotName)\n",
    "        \n",
    "    if(len(topTwentySpotArray) < 20):\n",
    "        while len(topTwentySpotArray) < 20:\n",
    "            topTwentySpotArray.append(\"\")\n",
    "            topTwentySpotArrayName.append(\"\")\n",
    "\n",
    "    print(i)\n",
    "    i+=1\n",
    "    numberWanted = str(row['Num'])\n",
    "    if i < 100:\n",
    "        spotifyResultsDf1[numberWanted] = topTwentySpotArray\n",
    "        spotifyResultsDf1Name[numberWanted] = topTwentySpotArrayName\n",
    "    elif i >= 100 and i < 200:\n",
    "        spotifyResultsDf2[numberWanted] = topTwentySpotArray\n",
    "        spotifyResultsDf2Name[numberWanted] = topTwentySpotArrayName\n",
    "    else:\n",
    "        spotifyResultsDf3[numberWanted] = topTwentySpotArray\n",
    "        spotifyResultsDf3Name[numberWanted] = topTwentySpotArrayName\n",
    "\n",
    "\n",
    "    sleep(0.4)\n",
    "\n",
    "\n",
    "spotifyResultsDf1.to_csv('spotify_results1.csv')\n",
    "spotifyResultsDf2.to_csv('spotify_results2.csv')\n",
    "spotifyResultsDf3.to_csv('spotify_results3.csv')\n",
    "spotifyResultsDf1Name.to_csv('spotify_results1_name.csv')\n",
    "spotifyResultsDf2Name.to_csv('spotify_results2_name.csv')\n",
    "spotifyResultsDf3Name.to_csv('spotify_results3_name.csv')\n",
    "\n"
   ]
  }
 ],
 "metadata": {
  "kernelspec": {
   "display_name": "Python 3.11.0 64-bit",
   "language": "python",
   "name": "python3"
  },
  "language_info": {
   "codemirror_mode": {
    "name": "ipython",
    "version": 3
   },
   "file_extension": ".py",
   "mimetype": "text/x-python",
   "name": "python",
   "nbconvert_exporter": "python",
   "pygments_lexer": "ipython3",
   "version": "3.11.0"
  },
  "orig_nbformat": 4,
  "vscode": {
   "interpreter": {
    "hash": "c261aea317cc0286b3b3261fbba9abdec21eaa57589985bb7a274bf54d6cc0a7"
   }
  }
 },
 "nbformat": 4,
 "nbformat_minor": 2
}
