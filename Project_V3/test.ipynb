{
 "cells": [
  {
   "cell_type": "code",
   "execution_count": 60,
   "metadata": {},
   "outputs": [
    {
     "name": "stdout",
     "output_type": "stream",
     "text": [
      "(1416, 11) Index(['name', 'gender', 'age', 'type', 'country', 'city_2', 'spotifyid',\n",
      "       'genres', 'popularity', 'followers', 'soup'],\n",
      "      dtype='object')\n"
     ]
    }
   ],
   "source": [
    "import numpy as np\n",
    "import ast\n",
    "import pytz\n",
    "import math\n",
    "import itertools\n",
    "from sklearn.preprocessing import LabelBinarizer\n",
    "import pandas as pd\n",
    "import sklearn\n",
    "from sklearn.tree import DecisionTreeClassifier\n",
    "from sklearn.model_selection import train_test_split\n",
    "from sklearn.metrics import mean_absolute_error,accuracy_score\n",
    "from sklearn.model_selection import GridSearchCV\n",
    "from sklearn.feature_extraction.text import TfidfVectorizer,HashingVectorizer\n",
    "from sklearn.metrics.pairwise import linear_kernel\n",
    "from sklearn.feature_extraction.text import CountVectorizer\n",
    "from sklearn.metrics.pairwise import cosine_similarity, euclidean_distances\n",
    "import matplotlib.pyplot as plt\n",
    "from sklearn.manifold import TSNE\n",
    "from sklearn.feature_selection import r_regression \n",
    "\n",
    "df = pd.read_csv('top10K-spotify.csv',index_col=0)\n",
    "df[\"type\"].value_counts()\n",
    "df=df.drop(columns=[\"index\",\"city_1\",\"district_1\",\"district_2\",\"city_3\",\"district_3\" ])\n",
    "df = df[df['city_2'].notna()]\n",
    "df = df[df['country'].notna()]\n",
    "df.rename(columns = {'artist':'name'}, inplace = True)\n",
    "\n",
    "df2=pd.read_csv('data_w_spotify.csv',index_col=None)\n",
    "df2=df2.drop(columns=[\"isdone\",\"id\"])\n",
    "df2['genres'] = df2['genres'].fillna('')\n",
    "\n",
    "df3=df.merge(df2,on='name')\n",
    "\n",
    "df3['genres']= df3['genres'].str.strip('[]').str.replace(\"'\",\"\").str.split('\\s*,\\s*')\n",
    "\n",
    "def create_soup(x):\n",
    "    return ' '.join(x['genres']) + ' '+ x['city_2'] + ' ' + x['country']+' ' + x['gender']+ ' ' + x['type']\n",
    "\n",
    "df3['soup'] = df3.apply(create_soup, axis=1)\n",
    "print(df3.shape,df3.columns)\n",
    "\n",
    "dict_names = dict(zip(df3.name, df3.spotifyid))\n",
    "\n",
    "df = df.reset_index()\n",
    "indices = pd.Series(df3.index, index=df3['name']).drop_duplicates()\n",
    "\n",
    "\n",
    "\n",
    "def get_recommendations(name,sim,reverse):\n",
    "    print(sim[0:20])\n",
    "    # print(name,sim)\n",
    "    indices = pd.Series(df3.index, index=df3['name']).drop_duplicates()\n",
    "    idx = indices[name]\n",
    "\n",
    "    # Get the pairwsie similarity scores of all movies with that movie\n",
    "    sim_scores = list(enumerate(sim[idx]))\n",
    "\n",
    "    # Sort the movies based on the similarity scores\n",
    "    sim_scores = sorted(sim_scores, key=lambda x: x[1], reverse=reverse)\n",
    "\n",
    "    # Get the scores of the 10 most similar movies\n",
    "    sim_scores = sim_scores[1:11]\n",
    "\n",
    "     # Get the movie indices\n",
    "    indices = [i[0] for i in sim_scores]\n",
    "    scores = [round(i[1]*100, 2) for i in sim_scores]\n",
    "\n",
    "    # Return the top 10 most similar movies\n",
    "     \n",
    "    top_10=df3['name'].iloc[indices]\n",
    "    spot_top10=[]\n",
    "    for item in top_10:\n",
    "        spot_top10.append(dict_names[str(item)])\n",
    "\n",
    "    artist=dict_names[str(df3['name'].iloc[idx])]\n",
    "    \n",
    "    wantedDict = {\n",
    "        'mainId': artist,\n",
    "        'top10': spot_top10,\n",
    "        'scores': scores\n",
    "    }\n",
    "\n",
    "    return top_10\n",
    "\n",
    "\n"
   ]
  },
  {
   "cell_type": "code",
   "execution_count": 57,
   "metadata": {},
   "outputs": [],
   "source": [
    "def CVectorizer():\n",
    "    count = CountVectorizer()\n",
    "    count_matrix = count.fit_transform(df3['soup'])\n",
    "    return count_matrix\n",
    "\n",
    "def CosSim(x):\n",
    "    return (cosine_similarity(x,x),True)"
   ]
  },
  {
   "cell_type": "code",
   "execution_count": 58,
   "metadata": {},
   "outputs": [],
   "source": [
    "def TfidVectorizer():\n",
    "    count = TfidfVectorizer()\n",
    "    count_matrix = count.fit_transform(df3['soup'])\n",
    "    return count_matrix\n",
    "\n",
    "def EuDSim(x):\n",
    "    return (euclidean_distances(x,), False)"
   ]
  },
  {
   "cell_type": "code",
   "execution_count": 61,
   "metadata": {},
   "outputs": [
    {
     "name": "stdout",
     "output_type": "stream",
     "text": [
      "[[0.         1.27164672 1.37760589 ... 1.40778399 1.40174478 1.39498871]\n",
      " [1.27164672 0.         1.39319914 ... 1.41421356 1.39903586 1.40314814]\n",
      " [1.37760589 1.39319914 0.         ... 1.39020015 1.39098547 1.35909005]\n",
      " ...\n",
      " [1.37657832 1.40591266 0.99703375 ... 1.37564559 1.40504265 1.34643161]\n",
      " [1.29901872 1.06696599 1.38947701 ... 1.41421356 1.39635422 1.40119646]\n",
      " [1.38786089 1.39470118 1.32327071 ... 1.38721054 1.40777225 1.36691081]]\n"
     ]
    },
    {
     "data": {
      "text/plain": [
       "134        Tory Lanez\n",
       "191      Jessie Reyez\n",
       "306           JP Saxe\n",
       "21       Shawn Mendes\n",
       "795              dvsn\n",
       "299               Kai\n",
       "300               Kai\n",
       "382      Majid Jordan\n",
       "1029       Dragonette\n",
       "157     PARTYNEXTDOOR\n",
       "Name: name, dtype: object"
      ]
     },
     "execution_count": 61,
     "metadata": {},
     "output_type": "execute_result"
    }
   ],
   "source": [
    "#matrix=TfidVectorizer()\n",
    "matrix=CVectorizer()\n",
    "sim,reverse = EuDSim(matrix)\n",
    "#im,reverse = CosSim(matrix)\n",
    "\n",
    "get_recommendations(\"Drake\",sim,reverse)"
   ]
  },
  {
   "cell_type": "code",
   "execution_count": null,
   "metadata": {},
   "outputs": [],
   "source": [
    "tfid_matrix=TfidVectorizer()\n",
    "cos_sim=CosSim(CV_matrix)\n",
    "\n",
    "get_recommendations(\"Drake\",cos_sim)"
   ]
  }
 ],
 "metadata": {
  "kernelspec": {
   "display_name": "Python 3.10.4 64-bit ('3.10.4')",
   "language": "python",
   "name": "python3"
  },
  "language_info": {
   "codemirror_mode": {
    "name": "ipython",
    "version": 3
   },
   "file_extension": ".py",
   "mimetype": "text/x-python",
   "name": "python",
   "nbconvert_exporter": "python",
   "pygments_lexer": "ipython3",
   "version": "3.10.4"
  },
  "orig_nbformat": 4,
  "vscode": {
   "interpreter": {
    "hash": "fe03c93cb95804fa4dba1b3f4b4ab19505bd19e0c7f9d96ff3525d94fa51214a"
   }
  }
 },
 "nbformat": 4,
 "nbformat_minor": 2
}
